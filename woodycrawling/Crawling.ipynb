{
 "cells": [
  {
   "cell_type": "code",
   "execution_count": 1,
   "id": "242b0c58",
   "metadata": {},
   "outputs": [],
   "source": [
    "from bs4 import BeautifulSoup as bs\n",
    "import re\n",
    "import requests\n",
    "from multiprocessing import Pool, Queue"
   ]
  },
  {
   "cell_type": "code",
   "execution_count": 2,
   "id": "cb18d88c",
   "metadata": {},
   "outputs": [],
   "source": [
    "data = []\n",
    "with open(\"./brassicaceae.tsv\") as f:\n",
    "    while True:\n",
    "        line = f.readline()\n",
    "        try: \n",
    "            data.append([line.split(\"\\t\")[0].strip(), line.split(\"\\t\")[1].strip()])\n",
    "        except IndexError:\n",
    "            data.append([line.split(\"\\t\")[0].strip(), \"-\"])\n",
    "        if not line: break"
   ]
  },
  {
   "cell_type": "code",
   "execution_count": 3,
   "id": "2edefd2e",
   "metadata": {},
   "outputs": [],
   "source": [
    "woodiness = r\"(.*nnual.*)\" # |(.*erennial.*)\"\n",
    "def crawl_once(element):\n",
    "    try: \n",
    "        req = requests.get(f\"http://worldfloraonline.org/taxon/{element[0]}\", timeout=30)\n",
    "    except requests.exceptions.ConnectTimeout:\n",
    "        return None\n",
    "    soup = bs(req.text, \"html.parser\")\n",
    "    general = soup.select(\"#general\")\n",
    "    morphology = soup.select(\"#morphology\")\n",
    "    if (bool(re.compile(woodiness).search(str(general))) or bool(re.compile(woodiness).search(str(morphology)))): \n",
    "        return element[1]"
   ]
  },
  {
   "cell_type": "code",
   "execution_count": 4,
   "id": "b1306ee0",
   "metadata": {},
   "outputs": [],
   "source": [
    "pool = Pool(processes=80)\n",
    "woody_naive = pool.map(crawl_once, data)\n",
    "woody = []\n",
    "for e in woody_naive:\n",
    "    if e != None: woody.append(e)\n",
    "# del woody_naive"
   ]
  },
  {
   "cell_type": "code",
   "execution_count": 5,
   "id": "b16604f7",
   "metadata": {},
   "outputs": [],
   "source": [
    "with open(\"AnnualBrassicaceae.txt\", \"w\") as f:\n",
    "    for w in woody:\n",
    "        f.write(f\"{w}\\n\")"
   ]
  },
  {
   "cell_type": "code",
   "execution_count": null,
   "id": "a1024dc1",
   "metadata": {},
   "outputs": [],
   "source": []
  }
 ],
 "metadata": {
  "kernelspec": {
   "display_name": "Python 3 (ipykernel)",
   "language": "python",
   "name": "python3"
  },
  "language_info": {
   "codemirror_mode": {
    "name": "ipython",
    "version": 3
   },
   "file_extension": ".py",
   "mimetype": "text/x-python",
   "name": "python",
   "nbconvert_exporter": "python",
   "pygments_lexer": "ipython3",
   "version": "3.10.6"
  }
 },
 "nbformat": 4,
 "nbformat_minor": 5
}
