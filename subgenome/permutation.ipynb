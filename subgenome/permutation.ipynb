{
 "cells": [
  {
   "cell_type": "code",
   "execution_count": 2,
   "id": "967a8450",
   "metadata": {},
   "outputs": [],
   "source": [
    "pset = [[[\"vp145\"], [\"vp163\", \"vp172\", \"vp50\"]], [[\"vp117\", \"vp113\"], [\"vp178\", \"vp147\", \"vp103\", \"vp114\", \"vp106\"]], \\\n",
    "       [[\"vp174\", \"vp176\"], [\"vp144\", \"vp183\", \"vp68\", \"vp104\"]], [[\"vp64\"], [\"vp53\", \"vp169\"]], [[\"vp140\"], [\"vp107\"]], \\\n",
    "       [[\"vp118\", \"vp173\", \"vp116\", \"vp67\", \"vp164\", \"vp69\"], [\"vp151\", \"vp29\", \"vp167\", \"vp179\", \"vp59\", \"vp184\", \"vp177\"]]]"
   ]
  },
  {
   "cell_type": "code",
   "execution_count": 3,
   "id": "6d0d953e",
   "metadata": {},
   "outputs": [
    {
     "name": "stdout",
     "output_type": "stream",
     "text": [
      "Collecting pyprnt\n",
      "  Downloading pyprnt-2.5.3-py3-none-any.whl (10.0 kB)\n",
      "Installing collected packages: pyprnt\n",
      "Successfully installed pyprnt-2.5.3\n",
      "\u001b[33mWARNING: Running pip as the 'root' user can result in broken permissions and conflicting behaviour with the system package manager. It is recommended to use a virtual environment instead: https://pip.pypa.io/warnings/venv\u001b[0m\n"
     ]
    }
   ],
   "source": [
    "!pip install pyprnt"
   ]
  },
  {
   "cell_type": "code",
   "execution_count": 4,
   "id": "2911c2f1",
   "metadata": {},
   "outputs": [],
   "source": [
    "from pyprnt import prnt"
   ]
  },
  {
   "cell_type": "code",
   "execution_count": 5,
   "id": "f9cfa59e",
   "metadata": {},
   "outputs": [
    {
     "name": "stdout",
     "output_type": "stream",
     "text": [
      "╭─┬─────────────╮\n",
      "│0│╭─┬─────────╮│\n",
      "│ ││0│╭─┬─────╮││\n",
      "│ ││ ││0│vp145│││\n",
      "│ ││ │╰─┴─────╯││\n",
      "│ ││1│╭─┬─────╮││\n",
      "│ ││ ││0│vp163│││\n",
      "│ ││ ││1│vp172│││\n",
      "│ ││ ││2│vp50 │││\n",
      "│ ││ │╰─┴─────╯││\n",
      "│ │╰─┴─────────╯│\n",
      "│1│╭─┬─────────╮│\n",
      "│ ││0│╭─┬─────╮││\n",
      "│ ││ ││0│vp117│││\n",
      "│ ││ ││1│vp113│││\n",
      "│ ││ │╰─┴─────╯││\n",
      "│ ││1│╭─┬─────╮││\n",
      "│ ││ ││0│vp178│││\n",
      "│ ││ ││1│vp147│││\n",
      "│ ││ ││2│vp103│││\n",
      "│ ││ ││3│vp114│││\n",
      "│ ││ ││4│vp106│││\n",
      "│ ││ │╰─┴─────╯││\n",
      "│ │╰─┴─────────╯│\n",
      "│2│╭─┬─────────╮│\n",
      "│ ││0│╭─┬─────╮││\n",
      "│ ││ ││0│vp174│││\n",
      "│ ││ ││1│vp176│││\n",
      "│ ││ │╰─┴─────╯││\n",
      "│ ││1│╭─┬─────╮││\n",
      "│ ││ ││0│vp144│││\n",
      "│ ││ ││1│vp183│││\n",
      "│ ││ ││2│vp68 │││\n",
      "│ ││ ││3│vp104│││\n",
      "│ ││ │╰─┴─────╯││\n",
      "│ │╰─┴─────────╯│\n",
      "│3│╭─┬─────────╮│\n",
      "│ ││0│╭─┬────╮ ││\n",
      "│ ││ ││0│vp64│ ││\n",
      "│ ││ │╰─┴────╯ ││\n",
      "│ ││1│╭─┬─────╮││\n",
      "│ ││ ││0│vp53 │││\n",
      "│ ││ ││1│vp169│││\n",
      "│ ││ │╰─┴─────╯││\n",
      "│ │╰─┴─────────╯│\n",
      "│4│╭─┬─────────╮│\n",
      "│ ││0│╭─┬─────╮││\n",
      "│ ││ ││0│vp140│││\n",
      "│ ││ │╰─┴─────╯││\n",
      "│ ││1│╭─┬─────╮││\n",
      "│ ││ ││0│vp107│││\n",
      "│ ││ │╰─┴─────╯││\n",
      "│ │╰─┴─────────╯│\n",
      "│5│╭─┬─────────╮│\n",
      "│ ││0│╭─┬─────╮││\n",
      "│ ││ ││0│vp118│││\n",
      "│ ││ ││1│vp173│││\n",
      "│ ││ ││2│vp116│││\n",
      "│ ││ ││3│vp67 │││\n",
      "│ ││ ││4│vp164│││\n",
      "│ ││ ││5│vp69 │││\n",
      "│ ││ │╰─┴─────╯││\n",
      "│ ││1│╭─┬─────╮││\n",
      "│ ││ ││0│vp151│││\n",
      "│ ││ ││1│vp29 │││\n",
      "│ ││ ││2│vp167│││\n",
      "│ ││ ││3│vp179│││\n",
      "│ ││ ││4│vp59 │││\n",
      "│ ││ ││5│vp184│││\n",
      "│ ││ ││6│vp177│││\n",
      "│ ││ │╰─┴─────╯││\n",
      "│ │╰─┴─────────╯│\n",
      "╰─┴─────────────╯\n"
     ]
    }
   ],
   "source": [
    "prnt(pset)"
   ]
  },
  {
   "cell_type": "code",
   "execution_count": 6,
   "id": "328ce2db",
   "metadata": {},
   "outputs": [],
   "source": [
    "pos = {}\n",
    "with open(\"./new/total.gff\", \"r\") as f:\n",
    "    lines = f.readlines()\n",
    "    for line in lines:\n",
    "        pos[line.strip().split(\"\\t\")[1]] = line.strip().split(\"\\t\")[0]"
   ]
  },
  {
   "cell_type": "code",
   "execution_count": 9,
   "id": "5d2d15d1",
   "metadata": {},
   "outputs": [
    {
     "data": {
      "text/plain": [
       "'vp118'"
      ]
     },
     "execution_count": 9,
     "metadata": {},
     "output_type": "execute_result"
    }
   ],
   "source": [
    "pos[\"g10000.t1\"]"
   ]
  },
  {
   "cell_type": "code",
   "execution_count": 37,
   "id": "4679544d",
   "metadata": {},
   "outputs": [],
   "source": [
    "from itertools import product, chain\n",
    "it = list(product([0, 1], repeat=6))\n",
    "import Bio.SeqIO as SeqIO\n",
    "\n",
    "for i in it:\n",
    "    group_1 = [pset[j][i[j]] for j in range(6)]\n",
    "    group_2 = [pset[j][not i[j]] for j in range(6)]\n",
    "\n",
    "    group_1 = list(chain(*group_1))\n",
    "    group_2 = list(chain(*group_2))\n",
    "\n",
    "    group1 = {}\n",
    "    group2 = {}\n",
    "    with open(\"./new/total.aa\", \"r\") as f:\n",
    "        for record in SeqIO.parse(f, \"fasta\"):\n",
    "            try:\n",
    "                if pos[record.id] in group_1:\n",
    "                    group1[record.id] = str(record.seq)\n",
    "                elif pos[record.id] in group_2:\n",
    "                    group2[record.id] = str(record.seq)\n",
    "            except KeyError:\n",
    "                continue\n",
    "\n",
    "    with open(f\"./permutation/per_{''.join(list(map(str, i)))}_1.aa\", \"w\") as f1:\n",
    "        for k, v in group1.items():\n",
    "            f1.write(f\">{k}\\n\")\n",
    "            f1.write(f\"{v}\\n\")\n",
    "\n",
    "    with open(f\"./permutation/per_{''.join(list(map(str, i)))}_2.aa\", \"w\") as f2:\n",
    "        for k, v in group2.items():\n",
    "            f2.write(f\">{k}\\n\")\n",
    "            f2.write(f\"{v}\\n\")"
   ]
  },
  {
   "cell_type": "code",
   "execution_count": null,
   "id": "f675b499",
   "metadata": {},
   "outputs": [],
   "source": []
  }
 ],
 "metadata": {
  "kernelspec": {
   "display_name": "Python 3 (ipykernel)",
   "language": "python",
   "name": "python3"
  },
  "language_info": {
   "codemirror_mode": {
    "name": "ipython",
    "version": 3
   },
   "file_extension": ".py",
   "mimetype": "text/x-python",
   "name": "python",
   "nbconvert_exporter": "python",
   "pygments_lexer": "ipython3",
   "version": "3.7.12"
  }
 },
 "nbformat": 4,
 "nbformat_minor": 5
}
