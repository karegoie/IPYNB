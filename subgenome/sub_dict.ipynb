{
 "cells": [
  {
   "cell_type": "code",
   "execution_count": 17,
   "id": "d430cafb",
   "metadata": {},
   "outputs": [
    {
     "name": "stdout",
     "output_type": "stream",
     "text": [
      "\"seq0\":\"A01\",\"seq1\":\"A02\",\"seq2\":\"A03\",\"seq3\":\"A04\",\"seq4\":\"A05\",\"seq5\":\"A06\",\"seq6\":\"A07\",\"seq7\":\"A08\",\"seq8\":\"A09\",\"seq9\":\"A10\",\"seq10\":\"B01\",\"seq11\":\"B02\",\"seq12\":\"B03\",\"seq13\":\"B04\",\"seq14\":\"B05\",\"seq15\":\"B06\",\"seq16\":\"B07\",\"seq17\":\"B08\",\"seq18\":\"B09\",\"seq19\":\"B10\","
     ]
    }
   ],
   "source": [
    "for i in range(0, 10):\n",
    "    if i >=9:\n",
    "        print(f\"\\\"seq{i}\\\":\\\"A{i+1}\\\"\", end=\",\")\n",
    "    else:\n",
    "        print(f\"\\\"seq{i}\\\":\\\"A0{i+1}\\\"\", end=\",\")\n",
    "for i in range(0, 10):\n",
    "    if i >=9:\n",
    "        print(f\"\\\"seq{i+10}\\\":\\\"B{i+1}\\\"\", end=\",\")\n",
    "    else:\n",
    "        print(f\"\\\"seq{i+10}\\\":\\\"B0{i+1}\\\"\", end=\",\")"
   ]
  },
  {
   "cell_type": "code",
   "execution_count": null,
   "id": "7c1e077c",
   "metadata": {},
   "outputs": [],
   "source": []
  }
 ],
 "metadata": {
  "kernelspec": {
   "display_name": "Python 3 (ipykernel)",
   "language": "python",
   "name": "python3"
  },
  "language_info": {
   "codemirror_mode": {
    "name": "ipython",
    "version": 3
   },
   "file_extension": ".py",
   "mimetype": "text/x-python",
   "name": "python",
   "nbconvert_exporter": "python",
   "pygments_lexer": "ipython3",
   "version": "3.7.12"
  }
 },
 "nbformat": 4,
 "nbformat_minor": 5
}
