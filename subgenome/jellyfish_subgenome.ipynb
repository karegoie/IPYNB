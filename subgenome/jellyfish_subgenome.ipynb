{
 "cells": [
  {
   "cell_type": "code",
   "execution_count": 5,
   "id": "b296a164",
   "metadata": {},
   "outputs": [],
   "source": [
    "from Bio import SeqIO\n",
    "import pandas as pd\n",
    "import numpy as np\n",
    "from tqdm.auto import tqdm\n",
    "import itertools\n",
    "import pickle\n",
    "from glob import glob\n",
    "import random\n",
    "import seaborn as sns"
   ]
  },
  {
   "cell_type": "code",
   "execution_count": 12,
   "id": "0e14924b",
   "metadata": {},
   "outputs": [
    {
     "data": {
      "application/vnd.jupyter.widget-view+json": {
       "model_id": "d7a3e6212dd049c590cffe110c199d71",
       "version_major": 2,
       "version_minor": 0
      },
      "text/plain": [
       "  0%|          | 0/12 [00:00<?, ?it/s]"
      ]
     },
     "metadata": {},
     "output_type": "display_data"
    },
    {
     "name": "stdout",
     "output_type": "stream",
     "text": [
      "./HiC_scaffold_11.fasta.dump\n",
      "./HiC_scaffold_6.fasta.dump\n",
      "./HiC_scaffold_12.fasta.dump\n",
      "./HiC_scaffold_2.fasta.dump\n",
      "./HiC_scaffold_5.fasta.dump\n",
      "./HiC_scaffold_10.fasta.dump\n",
      "./HiC_scaffold_4.fasta.dump\n",
      "./HiC_scaffold_9.fasta.dump\n",
      "./HiC_scaffold_8.fasta.dump\n",
      "./HiC_scaffold_3.fasta.dump\n",
      "./HiC_scaffold_7.fasta.dump\n",
      "./HiC_scaffold_1.fasta.dump\n"
     ]
    }
   ],
   "source": [
    "data = {}\n",
    "for file in tqdm(glob(\"./HiC*.dump\")):\n",
    "    print(file)\n",
    "    with open(file, \"r\") as f:\n",
    "        in_data = {}\n",
    "        for line in f:\n",
    "            in_data[f\"{line.split(' ')[0].strip()}\"] = line.split(' ')[1].strip()\n",
    "    data[file.split(\".\")[-3]] = in_data"
   ]
  },
  {
   "cell_type": "code",
   "execution_count": null,
   "id": "f476044a",
   "metadata": {},
   "outputs": [],
   "source": [
    "columns = []\n",
    "for scaffold, v1 in data.items():\n",
    "    for mer, num in v1.items():\n",
    "        columns.append(mer)\n",
    "\n",
    "columns = list(set(columns))\n",
    "\n",
    "pre_df = {}\n",
    "for scaffold, v1 in tqdm(data.items()):\n",
    "    for mer, num in v1.items():\n",
    "        if scaffold not in pre_df.keys():\n",
    "            pre_df[scaffold] = []\n",
    "        if mer not in columns:\n",
    "            pre_df[scaffold].append(0)\n",
    "        else: \n",
    "            pre_df[scaffold].append(num)"
   ]
  },
  {
   "cell_type": "code",
   "execution_count": null,
   "id": "8616a48e",
   "metadata": {},
   "outputs": [],
   "source": []
  }
 ],
 "metadata": {
  "kernelspec": {
   "display_name": "Python 3 (ipykernel)",
   "language": "python",
   "name": "python3"
  },
  "language_info": {
   "codemirror_mode": {
    "name": "ipython",
    "version": 3
   },
   "file_extension": ".py",
   "mimetype": "text/x-python",
   "name": "python",
   "nbconvert_exporter": "python",
   "pygments_lexer": "ipython3",
   "version": "3.10.6"
  }
 },
 "nbformat": 4,
 "nbformat_minor": 5
}
