{
 "cells": [
  {
   "cell_type": "code",
   "execution_count": 1,
   "id": "5c39d8fc",
   "metadata": {},
   "outputs": [],
   "source": [
    "from Bio import SeqIO\n",
    "import pandas as pd\n",
    "import numpy as np\n",
    "from tqdm import tqdm\n",
    "import itertools\n",
    "import pickle\n",
    "import random"
   ]
  },
  {
   "cell_type": "code",
   "execution_count": 2,
   "id": "e44e2120",
   "metadata": {},
   "outputs": [],
   "source": [
    "SPEC = \"viola.unmasked\""
   ]
  },
  {
   "cell_type": "code",
   "execution_count": 3,
   "id": "8f82ba69",
   "metadata": {},
   "outputs": [],
   "source": [
    "raw_data = {}\n",
    "with open(f\".//{SPEC}.LTR.LTR.fasta\", \"r\") as handle:\n",
    "    for record in SeqIO.parse(handle, \"fasta\"):\n",
    "        raw_data[record.id] = []\n",
    "        \n",
    "with open(f\"./{SPEC}.LTR.LTR.fasta\", \"r\") as handle:\n",
    "    for record in SeqIO.parse(handle, \"fasta\"):\n",
    "        raw_data[record.id] += str(record.seq)\n",
    "\n",
    "data = {}\n",
    "for k in raw_data.keys():\n",
    "    data[k] = \"\".join(raw_data[k])\n",
    "\n",
    "del raw_data"
   ]
  },
  {
   "cell_type": "code",
   "execution_count": 4,
   "id": "028560db",
   "metadata": {},
   "outputs": [
    {
     "data": {
      "text/plain": [
       "dict_keys(['ctg000000', 'ctg000010', 'ctg000020', 'ctg000030', 'ctg000040', 'ctg000050', 'ctg000060', 'ctg000070', 'ctg000080', 'ctg000090', 'ctg000100', 'ctg000110', 'ctg000120', 'ctg000130', 'ctg000140', 'ctg000150', 'ctg000170', 'ctg000180', 'ctg000190', 'ctg000200', 'ctg000210', 'ctg000220', 'ctg000230', 'ctg000240', 'ctg000250', 'ctg000260', 'ctg000270', 'ctg000280', 'ctg000290', 'ctg000300', 'ctg000310', 'ctg000320', 'ctg000330', 'ctg000340', 'ctg000350', 'ctg000360', 'ctg000370', 'ctg000380', 'ctg000390', 'ctg000400', 'ctg000410', 'ctg000430', 'ctg000440', 'ctg000450', 'ctg000460', 'ctg000470', 'ctg000480', 'ctg000490', 'ctg000500', 'ctg000510', 'ctg000520', 'ctg000530', 'ctg000540', 'ctg000550', 'ctg000560', 'ctg000570', 'ctg000580', 'ctg000590', 'ctg000600', 'ctg000620', 'ctg000630', 'ctg000640', 'ctg000650', 'ctg000660', 'ctg000670', 'ctg000680', 'ctg000690', 'ctg000700', 'ctg000710', 'ctg000720', 'ctg000730', 'ctg000740', 'ctg000750', 'ctg000760', 'ctg000770', 'ctg000780', 'ctg000790', 'ctg000800', 'ctg000810', 'ctg000820', 'ctg000830', 'ctg000840', 'ctg000850', 'ctg000860', 'ctg000870', 'ctg000880', 'ctg000890', 'ctg000900', 'ctg000910', 'ctg000920', 'ctg000930', 'ctg000940', 'ctg000950', 'ctg000960', 'ctg000970', 'ctg000980', 'ctg000990', 'ctg001000', 'ctg001010', 'ctg001020', 'ctg001030', 'ctg001040', 'ctg001050', 'ctg001060', 'ctg001070', 'ctg001080', 'ctg001090', 'ctg001100', 'ctg001110', 'ctg001120', 'ctg001130', 'ctg001140', 'ctg001150', 'ctg001160', 'ctg001170', 'ctg001180', 'ctg001200', 'ctg001210', 'ctg001220', 'ctg001230', 'ctg001240', 'ctg001250', 'ctg001260', 'ctg001270', 'ctg001280', 'ctg001290', 'ctg001300', 'ctg001310', 'ctg001320', 'ctg001330', 'ctg001340', 'ctg001350', 'ctg001360', 'ctg001370', 'ctg001380', 'ctg001390', 'ctg001400', 'ctg001410', 'ctg001420', 'ctg001430', 'ctg001440', 'ctg001450', 'ctg001460', 'ctg001470', 'ctg001480', 'ctg001490', 'ctg001500', 'ctg001510', 'ctg001520', 'ctg001530', 'ctg001540', 'ctg001550', 'ctg001560', 'ctg001570', 'ctg001580', 'ctg001590', 'ctg001610', 'ctg001620', 'ctg001630', 'ctg001640', 'ctg001650', 'ctg001660', 'ctg001670', 'ctg001680', 'ctg001690', 'ctg001700', 'ctg001710', 'ctg001720', 'ctg001730', 'ctg001740', 'ctg001750', 'ctg001760', 'ctg001770', 'ctg001780', 'ctg001790', 'ctg001800', 'ctg001810', 'ctg001820', 'ctg001830', 'ctg001840', 'ctg001850'])"
      ]
     },
     "execution_count": 4,
     "metadata": {},
     "output_type": "execute_result"
    }
   ],
   "source": [
    "data.keys()"
   ]
  },
  {
   "cell_type": "code",
   "execution_count": 5,
   "id": "ecba5a1c",
   "metadata": {},
   "outputs": [],
   "source": [
    "def count_kmers(read, k):\n",
    "    \"\"\"Count kmer occurrences in a given read.\n",
    "\n",
    "    Parameters\n",
    "    ----------\n",
    "    read : string\n",
    "        A single DNA sequence.\n",
    "    k : int\n",
    "        The value of k for which to count kmers.\n",
    "\n",
    "    Returns\n",
    "    -------\n",
    "    counts : dictionary, {'string': int}\n",
    "        A dictionary of counts keyed by their individual kmers (strings\n",
    "        of length k).\n",
    "\n",
    "    Examples\n",
    "    --------\n",
    "    >>> count_kmers(\"GATGAT\", 3)\n",
    "    {'ATG': 1, 'GAT': 2, 'TGA': 1}\n",
    "    \"\"\"\n",
    "    # Start with an empty dictionary\n",
    "    counts = {}\n",
    "    nucleotides = ['A', 'T', 'G', 'C']\n",
    "    # Add the kmer to the dictionary if it's not there\n",
    "    for i in itertools.product(nucleotides, repeat=k):\n",
    "        counts[\"\".join(i)] = 0\n",
    "    # Calculate how many kmers of length k there are\n",
    "    num_kmers = len(read) - k + 1\n",
    "    # Loop over the kmer start positions\n",
    "    for i in range(num_kmers):\n",
    "        # Slice the string to get the kmer\n",
    "        kmer = read[i:i+k]\n",
    "        if kmer not in counts:\n",
    "            continue\n",
    "        # Increment the count for this kmer\n",
    "        counts[kmer] += 1\n",
    "    # Return the final counts\n",
    "    return counts"
   ]
  },
  {
   "cell_type": "code",
   "execution_count": 6,
   "id": "49bbbb5c",
   "metadata": {},
   "outputs": [
    {
     "name": "stderr",
     "output_type": "stream",
     "text": [
      "100%|██████████| 181/181 [00:07<00:00, 23.06it/s]\n"
     ]
    }
   ],
   "source": [
    "K = 2\n",
    "kmer_datas = {}\n",
    "\n",
    "for k, v in tqdm(data.items()):\n",
    "    kmer_data = count_kmers(v, K)\n",
    "    kmer_datas[k] = kmer_data"
   ]
  },
  {
   "cell_type": "code",
   "execution_count": 7,
   "id": "78dbbd22",
   "metadata": {},
   "outputs": [],
   "source": [
    "import math\n",
    "reg_data = {}\n",
    "unmasked_data_length = {}\n",
    "with open(f\"./{SPEC}.fasta\", \"r\") as f:\n",
    "    for record in SeqIO.parse(f, \"fasta\"):\n",
    "        unmasked_data_length[record.id] = len(record.seq)\n",
    "\n",
    "for k1, v1 in kmer_datas.items():\n",
    "    temp = {}\n",
    "    for k2, v2 in v1.items():\n",
    "        # temp[k2] = math.log(v2 / unmasked_data_length[k1] + 1)\n",
    "        temp[k2] = v2 / unmasked_data_length[k1]\n",
    "    reg_data[k1] = temp"
   ]
  },
  {
   "cell_type": "code",
   "execution_count": 8,
   "id": "769205ad",
   "metadata": {},
   "outputs": [],
   "source": [
    "#df = pd.DataFrame(kmer_datas)\n",
    "df = pd.DataFrame(reg_data)"
   ]
  },
  {
   "cell_type": "code",
   "execution_count": 9,
   "id": "f443481d",
   "metadata": {},
   "outputs": [
    {
     "data": {
      "text/html": [
       "<div>\n",
       "<style scoped>\n",
       "    .dataframe tbody tr th:only-of-type {\n",
       "        vertical-align: middle;\n",
       "    }\n",
       "\n",
       "    .dataframe tbody tr th {\n",
       "        vertical-align: top;\n",
       "    }\n",
       "\n",
       "    .dataframe thead th {\n",
       "        text-align: right;\n",
       "    }\n",
       "</style>\n",
       "<table border=\"1\" class=\"dataframe\">\n",
       "  <thead>\n",
       "    <tr style=\"text-align: right;\">\n",
       "      <th></th>\n",
       "      <th>AA</th>\n",
       "      <th>AT</th>\n",
       "      <th>AG</th>\n",
       "      <th>AC</th>\n",
       "      <th>TA</th>\n",
       "      <th>TT</th>\n",
       "      <th>TG</th>\n",
       "      <th>TC</th>\n",
       "      <th>GA</th>\n",
       "      <th>GT</th>\n",
       "      <th>GG</th>\n",
       "      <th>GC</th>\n",
       "      <th>CA</th>\n",
       "      <th>CT</th>\n",
       "      <th>CG</th>\n",
       "      <th>CC</th>\n",
       "    </tr>\n",
       "  </thead>\n",
       "  <tbody>\n",
       "    <tr>\n",
       "      <th>ctg000000</th>\n",
       "      <td>0.000869</td>\n",
       "      <td>0.000617</td>\n",
       "      <td>0.001290</td>\n",
       "      <td>0.000813</td>\n",
       "      <td>0.000925</td>\n",
       "      <td>0.000477</td>\n",
       "      <td>0.001009</td>\n",
       "      <td>0.000673</td>\n",
       "      <td>0.001374</td>\n",
       "      <td>0.001261</td>\n",
       "      <td>0.002327</td>\n",
       "      <td>0.000589</td>\n",
       "      <td>0.000449</td>\n",
       "      <td>0.000701</td>\n",
       "      <td>0.000925</td>\n",
       "      <td>0.000897</td>\n",
       "    </tr>\n",
       "    <tr>\n",
       "      <th>ctg000010</th>\n",
       "      <td>0.002755</td>\n",
       "      <td>0.001330</td>\n",
       "      <td>0.000737</td>\n",
       "      <td>0.001538</td>\n",
       "      <td>0.001201</td>\n",
       "      <td>0.000753</td>\n",
       "      <td>0.000913</td>\n",
       "      <td>0.001121</td>\n",
       "      <td>0.001394</td>\n",
       "      <td>0.000849</td>\n",
       "      <td>0.002243</td>\n",
       "      <td>0.000144</td>\n",
       "      <td>0.001025</td>\n",
       "      <td>0.001057</td>\n",
       "      <td>0.000737</td>\n",
       "      <td>0.001682</td>\n",
       "    </tr>\n",
       "    <tr>\n",
       "      <th>ctg000020</th>\n",
       "      <td>0.002951</td>\n",
       "      <td>0.002701</td>\n",
       "      <td>0.002155</td>\n",
       "      <td>0.002436</td>\n",
       "      <td>0.002576</td>\n",
       "      <td>0.002998</td>\n",
       "      <td>0.001686</td>\n",
       "      <td>0.002436</td>\n",
       "      <td>0.002514</td>\n",
       "      <td>0.001858</td>\n",
       "      <td>0.001514</td>\n",
       "      <td>0.001468</td>\n",
       "      <td>0.002186</td>\n",
       "      <td>0.002108</td>\n",
       "      <td>0.002061</td>\n",
       "      <td>0.002264</td>\n",
       "    </tr>\n",
       "    <tr>\n",
       "      <th>ctg000030</th>\n",
       "      <td>0.000069</td>\n",
       "      <td>0.000069</td>\n",
       "      <td>0.000092</td>\n",
       "      <td>0.000023</td>\n",
       "      <td>0.000046</td>\n",
       "      <td>0.000023</td>\n",
       "      <td>0.000046</td>\n",
       "      <td>0.000023</td>\n",
       "      <td>0.000138</td>\n",
       "      <td>0.000000</td>\n",
       "      <td>0.000161</td>\n",
       "      <td>0.000000</td>\n",
       "      <td>0.000023</td>\n",
       "      <td>0.000046</td>\n",
       "      <td>0.000000</td>\n",
       "      <td>0.000023</td>\n",
       "    </tr>\n",
       "    <tr>\n",
       "      <th>ctg000040</th>\n",
       "      <td>0.002653</td>\n",
       "      <td>0.002113</td>\n",
       "      <td>0.001557</td>\n",
       "      <td>0.000985</td>\n",
       "      <td>0.001128</td>\n",
       "      <td>0.002780</td>\n",
       "      <td>0.001398</td>\n",
       "      <td>0.002796</td>\n",
       "      <td>0.002780</td>\n",
       "      <td>0.000874</td>\n",
       "      <td>0.002288</td>\n",
       "      <td>0.000365</td>\n",
       "      <td>0.000763</td>\n",
       "      <td>0.002335</td>\n",
       "      <td>0.001048</td>\n",
       "      <td>0.000826</td>\n",
       "    </tr>\n",
       "    <tr>\n",
       "      <th>...</th>\n",
       "      <td>...</td>\n",
       "      <td>...</td>\n",
       "      <td>...</td>\n",
       "      <td>...</td>\n",
       "      <td>...</td>\n",
       "      <td>...</td>\n",
       "      <td>...</td>\n",
       "      <td>...</td>\n",
       "      <td>...</td>\n",
       "      <td>...</td>\n",
       "      <td>...</td>\n",
       "      <td>...</td>\n",
       "      <td>...</td>\n",
       "      <td>...</td>\n",
       "      <td>...</td>\n",
       "      <td>...</td>\n",
       "    </tr>\n",
       "    <tr>\n",
       "      <th>ctg001810</th>\n",
       "      <td>0.002991</td>\n",
       "      <td>0.002474</td>\n",
       "      <td>0.002088</td>\n",
       "      <td>0.001749</td>\n",
       "      <td>0.002316</td>\n",
       "      <td>0.003037</td>\n",
       "      <td>0.001933</td>\n",
       "      <td>0.002098</td>\n",
       "      <td>0.002094</td>\n",
       "      <td>0.001779</td>\n",
       "      <td>0.001896</td>\n",
       "      <td>0.001327</td>\n",
       "      <td>0.001901</td>\n",
       "      <td>0.002095</td>\n",
       "      <td>0.001179</td>\n",
       "      <td>0.001818</td>\n",
       "    </tr>\n",
       "    <tr>\n",
       "      <th>ctg001820</th>\n",
       "      <td>0.003137</td>\n",
       "      <td>0.002694</td>\n",
       "      <td>0.002374</td>\n",
       "      <td>0.002041</td>\n",
       "      <td>0.002564</td>\n",
       "      <td>0.003171</td>\n",
       "      <td>0.002093</td>\n",
       "      <td>0.002384</td>\n",
       "      <td>0.002381</td>\n",
       "      <td>0.001982</td>\n",
       "      <td>0.002199</td>\n",
       "      <td>0.001537</td>\n",
       "      <td>0.002165</td>\n",
       "      <td>0.002366</td>\n",
       "      <td>0.001431</td>\n",
       "      <td>0.002342</td>\n",
       "    </tr>\n",
       "    <tr>\n",
       "      <th>ctg001830</th>\n",
       "      <td>0.002884</td>\n",
       "      <td>0.002470</td>\n",
       "      <td>0.002027</td>\n",
       "      <td>0.001715</td>\n",
       "      <td>0.002315</td>\n",
       "      <td>0.003025</td>\n",
       "      <td>0.001860</td>\n",
       "      <td>0.002037</td>\n",
       "      <td>0.002053</td>\n",
       "      <td>0.001722</td>\n",
       "      <td>0.001810</td>\n",
       "      <td>0.001265</td>\n",
       "      <td>0.001845</td>\n",
       "      <td>0.002021</td>\n",
       "      <td>0.001151</td>\n",
       "      <td>0.001822</td>\n",
       "    </tr>\n",
       "    <tr>\n",
       "      <th>ctg001840</th>\n",
       "      <td>0.002642</td>\n",
       "      <td>0.002109</td>\n",
       "      <td>0.001401</td>\n",
       "      <td>0.001253</td>\n",
       "      <td>0.001779</td>\n",
       "      <td>0.002636</td>\n",
       "      <td>0.001531</td>\n",
       "      <td>0.001496</td>\n",
       "      <td>0.001458</td>\n",
       "      <td>0.001230</td>\n",
       "      <td>0.001056</td>\n",
       "      <td>0.000873</td>\n",
       "      <td>0.001527</td>\n",
       "      <td>0.001465</td>\n",
       "      <td>0.000630</td>\n",
       "      <td>0.001137</td>\n",
       "    </tr>\n",
       "    <tr>\n",
       "      <th>ctg001850</th>\n",
       "      <td>0.002849</td>\n",
       "      <td>0.002327</td>\n",
       "      <td>0.001901</td>\n",
       "      <td>0.001701</td>\n",
       "      <td>0.002154</td>\n",
       "      <td>0.002786</td>\n",
       "      <td>0.001761</td>\n",
       "      <td>0.001998</td>\n",
       "      <td>0.001959</td>\n",
       "      <td>0.001660</td>\n",
       "      <td>0.001782</td>\n",
       "      <td>0.001217</td>\n",
       "      <td>0.001817</td>\n",
       "      <td>0.001926</td>\n",
       "      <td>0.001174</td>\n",
       "      <td>0.001832</td>\n",
       "    </tr>\n",
       "  </tbody>\n",
       "</table>\n",
       "<p>181 rows × 16 columns</p>\n",
       "</div>"
      ],
      "text/plain": [
       "                 AA        AT        AG        AC        TA        TT  \\\n",
       "ctg000000  0.000869  0.000617  0.001290  0.000813  0.000925  0.000477   \n",
       "ctg000010  0.002755  0.001330  0.000737  0.001538  0.001201  0.000753   \n",
       "ctg000020  0.002951  0.002701  0.002155  0.002436  0.002576  0.002998   \n",
       "ctg000030  0.000069  0.000069  0.000092  0.000023  0.000046  0.000023   \n",
       "ctg000040  0.002653  0.002113  0.001557  0.000985  0.001128  0.002780   \n",
       "...             ...       ...       ...       ...       ...       ...   \n",
       "ctg001810  0.002991  0.002474  0.002088  0.001749  0.002316  0.003037   \n",
       "ctg001820  0.003137  0.002694  0.002374  0.002041  0.002564  0.003171   \n",
       "ctg001830  0.002884  0.002470  0.002027  0.001715  0.002315  0.003025   \n",
       "ctg001840  0.002642  0.002109  0.001401  0.001253  0.001779  0.002636   \n",
       "ctg001850  0.002849  0.002327  0.001901  0.001701  0.002154  0.002786   \n",
       "\n",
       "                 TG        TC        GA        GT        GG        GC  \\\n",
       "ctg000000  0.001009  0.000673  0.001374  0.001261  0.002327  0.000589   \n",
       "ctg000010  0.000913  0.001121  0.001394  0.000849  0.002243  0.000144   \n",
       "ctg000020  0.001686  0.002436  0.002514  0.001858  0.001514  0.001468   \n",
       "ctg000030  0.000046  0.000023  0.000138  0.000000  0.000161  0.000000   \n",
       "ctg000040  0.001398  0.002796  0.002780  0.000874  0.002288  0.000365   \n",
       "...             ...       ...       ...       ...       ...       ...   \n",
       "ctg001810  0.001933  0.002098  0.002094  0.001779  0.001896  0.001327   \n",
       "ctg001820  0.002093  0.002384  0.002381  0.001982  0.002199  0.001537   \n",
       "ctg001830  0.001860  0.002037  0.002053  0.001722  0.001810  0.001265   \n",
       "ctg001840  0.001531  0.001496  0.001458  0.001230  0.001056  0.000873   \n",
       "ctg001850  0.001761  0.001998  0.001959  0.001660  0.001782  0.001217   \n",
       "\n",
       "                 CA        CT        CG        CC  \n",
       "ctg000000  0.000449  0.000701  0.000925  0.000897  \n",
       "ctg000010  0.001025  0.001057  0.000737  0.001682  \n",
       "ctg000020  0.002186  0.002108  0.002061  0.002264  \n",
       "ctg000030  0.000023  0.000046  0.000000  0.000023  \n",
       "ctg000040  0.000763  0.002335  0.001048  0.000826  \n",
       "...             ...       ...       ...       ...  \n",
       "ctg001810  0.001901  0.002095  0.001179  0.001818  \n",
       "ctg001820  0.002165  0.002366  0.001431  0.002342  \n",
       "ctg001830  0.001845  0.002021  0.001151  0.001822  \n",
       "ctg001840  0.001527  0.001465  0.000630  0.001137  \n",
       "ctg001850  0.001817  0.001926  0.001174  0.001832  \n",
       "\n",
       "[181 rows x 16 columns]"
      ]
     },
     "execution_count": 9,
     "metadata": {},
     "output_type": "execute_result"
    }
   ],
   "source": [
    "df.T"
   ]
  },
  {
   "cell_type": "code",
   "execution_count": 10,
   "id": "af6db3c3",
   "metadata": {},
   "outputs": [
    {
     "data": {
      "text/plain": [
       "'import seaborn as sns\\nimport matplotlib.pyplot as plt\\nsns.clustermap(df.T, col_cluster=False, yticklabels=True, figsize=(50,50))\\nplt.savefig(f\"./{SPEC}_clustermap.png\")'"
      ]
     },
     "execution_count": 10,
     "metadata": {},
     "output_type": "execute_result"
    }
   ],
   "source": [
    "\"\"\"import seaborn as sns\n",
    "import matplotlib.pyplot as plt\n",
    "sns.clustermap(df.T, col_cluster=False, yticklabels=True, figsize=(50,50))\n",
    "plt.savefig(f\"./{SPEC}_clustermap.png\")\"\"\""
   ]
  },
  {
   "cell_type": "code",
   "execution_count": 11,
   "id": "2f1adbcd",
   "metadata": {},
   "outputs": [],
   "source": [
    "from scipy.cluster.hierarchy import dendrogram, linkage\n",
    "import matplotlib.pyplot as plt"
   ]
  },
  {
   "cell_type": "code",
   "execution_count": 12,
   "id": "15190e7d",
   "metadata": {},
   "outputs": [
    {
     "data": {
      "image/png": "[encoded data removed]",
      "text/plain": [
       "<Figure size 2160x1440 with 1 Axes>"
      ]
     },
     "metadata": {
      "needs_background": "light"
     },
     "output_type": "display_data"
    }
   ],
   "source": [
    "plt.figure(figsize=(30, 20))\n",
    "linked = linkage(df.T, method=\"ward\")\n",
    "dend = dendrogram(linked, orientation='top', distance_sort='descending', \\\n",
    "                  labels=list(df.T.index), show_leaf_counts=True)\n",
    "plt.savefig(f\"./{SPEC}_dendrogram.png\")"
   ]
  },
  {
   "cell_type": "markdown",
   "id": "b74f61ee",
   "metadata": {},
   "source": [
    "# For Viola"
   ]
  },
  {
   "cell_type": "code",
   "execution_count": 19,
   "id": "c5aa225e",
   "metadata": {},
   "outputs": [],
   "source": [
    "cluster = {\"C1\":[], \"C2\": [], \"C3\":[], \"C4\":[]}\n",
    "for l, c in zip(dend[\"leaves\"], dend[\"leaves_color_list\"]):\n",
    "    cluster[c].append(l)"
   ]
  },
  {
   "cell_type": "code",
   "execution_count": 24,
   "id": "70934f13",
   "metadata": {},
   "outputs": [],
   "source": [
    "sub1 = cluster[\"C1\"] + cluster[\"C2\"]\n",
    "sub2 = cluster[\"C3\"]\n",
    "def encoder(n):\n",
    "    if n<10: return f\"ctg0000{n}0\"\n",
    "    elif n<100: return f\"ctg000{n}0\"\n",
    "    else: return f\"ctg00{n}0\"\n",
    "sub1 = list(map(encoder, sub1))\n",
    "sub2 = list(map(encoder, sub2))"
   ]
  },
  {
   "cell_type": "code",
   "execution_count": 25,
   "id": "f5bbce3b",
   "metadata": {},
   "outputs": [
    {
     "name": "stdout",
     "output_type": "stream",
     "text": [
      "['ctg001190', 'ctg000430', 'ctg001220', 'ctg000180', 'ctg000920', 'ctg000690', 'ctg000380', 'ctg000370', 'ctg000390', 'ctg001610', 'ctg001570', 'ctg001460', 'ctg000990', 'ctg000800', 'ctg000020', 'ctg001660', 'ctg000940', 'ctg000660', 'ctg000500', 'ctg001100', 'ctg001600', 'ctg000530', 'ctg000540', 'ctg001440', 'ctg000340', 'ctg000930', 'ctg001070', 'ctg001060', 'ctg000670', 'ctg000630', 'ctg000130', 'ctg001330', 'ctg000950', 'ctg000960', 'ctg000410', 'ctg000290', 'ctg001450', 'ctg000620', 'ctg001020', 'ctg001770', 'ctg001120', 'ctg001050', 'ctg001420', 'ctg000560', 'ctg000400', 'ctg001200', 'ctg000230', 'ctg000850', 'ctg000550', 'ctg001750', 'ctg000780', 'ctg000820', 'ctg000590', 'ctg000580', 'ctg001340', 'ctg000520', 'ctg000490', 'ctg000250', 'ctg001780', 'ctg001700', 'ctg001760', 'ctg001630', 'ctg000890', 'ctg001090', 'ctg001080', 'ctg000350', 'ctg001800', 'ctg000650', 'ctg001170', 'ctg001720', 'ctg000880', 'ctg000220', 'ctg001040', 'ctg000260', 'ctg001520', 'ctg000140', 'ctg000310', 'ctg001650', 'ctg001310', 'ctg001540', 'ctg000200', 'ctg000790', 'ctg001180', 'ctg000910', 'ctg000270', 'ctg000360', 'ctg001300', 'ctg000150', 'ctg001240', 'ctg000330', 'ctg001250', 'ctg001210', 'ctg000090', 'ctg001510', 'ctg000060', 'ctg000700', 'ctg001230']\n",
      "['ctg000830', 'ctg000730', 'ctg000000', 'ctg000110', 'ctg000080', 'ctg000710', 'ctg000010', 'ctg000420', 'ctg000160', 'ctg000170', 'ctg001160', 'ctg001490', 'ctg000640', 'ctg000510', 'ctg001690', 'ctg000570', 'ctg001680', 'ctg001110', 'ctg001620', 'ctg001430', 'ctg001670', 'ctg000280', 'ctg001410', 'ctg000300', 'ctg001390', 'ctg001790', 'ctg000980', 'ctg001320', 'ctg001150', 'ctg000970', 'ctg001130', 'ctg000100', 'ctg001740', 'ctg001710', 'ctg000480', 'ctg001590', 'ctg000120', 'ctg000440', 'ctg001140', 'ctg000600', 'ctg001400', 'ctg001550', 'ctg001360', 'ctg001500', 'ctg001280', 'ctg000240', 'ctg000190', 'ctg000740', 'ctg000040', 'ctg001480', 'ctg000720', 'ctg000460', 'ctg000860', 'ctg000900', 'ctg000210', 'ctg000750', 'ctg000070', 'ctg000810', 'ctg001370', 'ctg000760', 'ctg000450', 'ctg000050', 'ctg001530', 'ctg001260', 'ctg001580', 'ctg001380', 'ctg001010', 'ctg001000', 'ctg001470', 'ctg001560', 'ctg000870', 'ctg001290', 'ctg001730', 'ctg001350', 'ctg001030', 'ctg000770', 'ctg001640', 'ctg000610', 'ctg000320', 'ctg001270', 'ctg000840', 'ctg000680', 'ctg000470', 'ctg000030']\n"
     ]
    }
   ],
   "source": [
    "print(sub1)\n",
    "print(sub2)"
   ]
  },
  {
   "cell_type": "code",
   "execution_count": 16,
   "id": "09980d27",
   "metadata": {},
   "outputs": [],
   "source": [
    "group1 = {}\n",
    "group2 = {}\n",
    "with open(\"./viola.unmasked.fasta\", \"r\") as f:\n",
    "    for record in SeqIO.parse(f, \"fasta\"):\n",
    "        if record.id in sub1:\n",
    "            group1[record.id] = str(record.seq)\n",
    "        elif record.id in sub2:\n",
    "            group2[record.id] = str(record.seq)\n",
    "\n",
    "with open(\"./sub1.fasta\", \"w\") as f1:\n",
    "    for k, v in group1.items():\n",
    "        f1.write(f\">{k}\\n\")\n",
    "        f1.write(f\"{v}\\n\")\n",
    "\n",
    "with open(\"./sub2.fasta\", \"w\") as f2:\n",
    "    for k, v in group2.items():\n",
    "        f2.write(f\">{k}\\n\")\n",
    "        f2.write(f\"{v}\\n\")"
   ]
  },
  {
   "cell_type": "code",
   "execution_count": 17,
   "id": "546cfb35",
   "metadata": {},
   "outputs": [
    {
     "name": "stdout",
     "output_type": "stream",
     "text": [
      "95\n",
      "86\n"
     ]
    }
   ],
   "source": [
    "!cat sub1.fasta | grep \">\" | wc -l\n",
    "!cat sub2.fasta | grep \">\" | wc -l"
   ]
  },
  {
   "cell_type": "code",
   "execution_count": null,
   "id": "023a4bdb",
   "metadata": {},
   "outputs": [],
   "source": [
    "+"
   ]
  }
 ],
 "metadata": {
  "kernelspec": {
   "display_name": "Python 3 (ipykernel)",
   "language": "python",
   "name": "python3"
  },
  "language_info": {
   "codemirror_mode": {
    "name": "ipython",
    "version": 3
   },
   "file_extension": ".py",
   "mimetype": "text/x-python",
   "name": "python",
   "nbconvert_exporter": "python",
   "pygments_lexer": "ipython3",
   "version": "3.7.12"
  }
 },
 "nbformat": 4,
 "nbformat_minor": 5
}
