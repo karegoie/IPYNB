{
 "cells": [
  {
   "cell_type": "code",
   "execution_count": 63,
   "id": "9571624b-d64c-4e43-a067-66066581727a",
   "metadata": {},
   "outputs": [],
   "source": [
    "import itertools\n",
    "def window(seq, n=2):\n",
    "    \"Returns a sliding window (of width n) over data from the iterable\"\n",
    "    \"   s -> (s0,s1,...s[n-1]), (s1,s2,...,sn), ...                   \"\n",
    "    it = iter(seq)\n",
    "    result = tuple(itertools.islice(it, n))\n",
    "    if len(result) == n:\n",
    "        yield result    \n",
    "    for elem in it:\n",
    "        result = result[1:] + (elem,)\n",
    "        yield result"
   ]
  },
  {
   "cell_type": "code",
   "execution_count": 64,
   "id": "55ebdf1c-1e91-4feb-8126-3ed5d6b35b6b",
   "metadata": {},
   "outputs": [],
   "source": [
    "def count_kmers(read, k):\n",
    "    \"\"\"Count kmer occurrences in a given read.\n",
    "\n",
    "    Parameters\n",
    "    ----------\n",
    "    read : string\n",
    "        A single DNA sequence.\n",
    "    k : int\n",
    "        The value of k for which to count kmers.\n",
    "\n",
    "    Returns\n",
    "    -------\n",
    "    counts : dictionary, {'string': int}\n",
    "        A dictionary of counts keyed by their individual kmers (strings\n",
    "        of length k).\n",
    "\n",
    "    Examples\n",
    "    --------\n",
    "    >>> count_kmers(\"GATGAT\", 3)\n",
    "    {'ATG': 1, 'GAT': 2, 'TGA': 1}\n",
    "    \"\"\"\n",
    "    # Start with an empty dictionary\n",
    "    counts = {}\n",
    "    nucleotides = ['A', 'T', 'G', 'C']\n",
    "    # Add the kmer to the dictionary if it's not there\n",
    "    for i in itertools.product(nucleotides, repeat=k):\n",
    "        counts[\"\".join(i)] = 0\n",
    "    # Calculate how many kmers of length k there are\n",
    "    num_kmers = len(read) - k + 1\n",
    "    # Loop over the kmer start positions\n",
    "    for kmer in window(read, n=k):\n",
    "        kmer = \"\".join(kmer)\n",
    "        if kmer not in counts:\n",
    "            continue\n",
    "        # Increment the count for this kmer\n",
    "        counts[kmer] += 1\n",
    "    # Return the final counts\n",
    "    return counts"
   ]
  },
  {
   "cell_type": "code",
   "execution_count": 59,
   "id": "6286a109-1a3d-4f2b-a26b-d08adaa28cc2",
   "metadata": {},
   "outputs": [],
   "source": [
    "import concurrent.futures\n",
    "import Bio.SeqIO as SeqIO\n",
    "from Bio.Seq import Seq\n",
    "\n",
    "def find_orfs(seq_record):\n",
    "    \"\"\"\n",
    "    Find ORFs in a DNA sequence record.\n",
    "    \"\"\"\n",
    "    #seq = seq_record \n",
    "    seq = seq_record.seq\n",
    "    \n",
    "    orfs = []\n",
    "    for strand, nuc in [(+1, seq), (-1, seq.reverse_complement())]:\n",
    "        for frame in range(3):\n",
    "            length = 3 * ((len(seq)-frame) // 3)\n",
    "            trans = str(nuc[frame:frame+length].translate(table=1))\n",
    "            for start in range(len(trans)):\n",
    "                if trans[start] == \"M\":\n",
    "                    end = trans.find(\"*\", start)\n",
    "                    if end != -1:\n",
    "                        orfs.append((start*3+frame, end*3+frame, strand))\n",
    "    return orfs"
   ]
  },
  {
   "cell_type": "code",
   "execution_count": 62,
   "id": "081f0a3c-8b98-43af-8b02-90c1bd884aa5",
   "metadata": {},
   "outputs": [
    {
     "ename": "TypeError",
     "evalue": "unhashable type: 'list'",
     "output_type": "error",
     "traceback": [
      "\u001b[0;31m---------------------------------------------------------------------------\u001b[0m",
      "\u001b[0;31mTypeError\u001b[0m                                 Traceback (most recent call last)",
      "Cell \u001b[0;32mIn [62], line 10\u001b[0m\n\u001b[1;32m      8\u001b[0m \u001b[38;5;28;01mwith\u001b[39;00m concurrent\u001b[38;5;241m.\u001b[39mfutures\u001b[38;5;241m.\u001b[39mThreadPoolExecutor(max_workers\u001b[38;5;241m=\u001b[39mn_threads) \u001b[38;5;28;01mas\u001b[39;00m executor:\n\u001b[1;32m      9\u001b[0m     orf_worker \u001b[38;5;241m=\u001b[39m \u001b[38;5;28mtuple\u001b[39m(executor\u001b[38;5;241m.\u001b[39mmap(find_orfs, seq_records))\n\u001b[0;32m---> 10\u001b[0m     \u001b[38;5;28;01mfor\u001b[39;00m done \u001b[38;5;129;01min\u001b[39;00m concurrent\u001b[38;5;241m.\u001b[39mfutures\u001b[38;5;241m.\u001b[39mas_completed(orf_worker):\n\u001b[1;32m     11\u001b[0m         result \u001b[38;5;241m=\u001b[39m done\u001b[38;5;241m.\u001b[39mresult()\n\u001b[1;32m     12\u001b[0m         orf_lists\u001b[38;5;241m.\u001b[39mappend(result)\n",
      "File \u001b[0;32m~/miniconda3/envs/notebook/lib/python3.10/concurrent/futures/_base.py:222\u001b[0m, in \u001b[0;36mas_completed\u001b[0;34m(fs, timeout)\u001b[0m\n\u001b[1;32m    219\u001b[0m \u001b[38;5;28;01mif\u001b[39;00m timeout \u001b[38;5;129;01mis\u001b[39;00m \u001b[38;5;129;01mnot\u001b[39;00m \u001b[38;5;28;01mNone\u001b[39;00m:\n\u001b[1;32m    220\u001b[0m     end_time \u001b[38;5;241m=\u001b[39m timeout \u001b[38;5;241m+\u001b[39m time\u001b[38;5;241m.\u001b[39mmonotonic()\n\u001b[0;32m--> 222\u001b[0m fs \u001b[38;5;241m=\u001b[39m \u001b[38;5;28;43mset\u001b[39;49m\u001b[43m(\u001b[49m\u001b[43mfs\u001b[49m\u001b[43m)\u001b[49m\n\u001b[1;32m    223\u001b[0m total_futures \u001b[38;5;241m=\u001b[39m \u001b[38;5;28mlen\u001b[39m(fs)\n\u001b[1;32m    224\u001b[0m \u001b[38;5;28;01mwith\u001b[39;00m _AcquireFutures(fs):\n",
      "\u001b[0;31mTypeError\u001b[0m: unhashable type: 'list'"
     ]
    }
   ],
   "source": [
    "# Read DNA sequence file\n",
    "filename = \"At.fna\"\n",
    "seq_records = list(SeqIO.parse(filename, \"fasta\"))\n",
    "\n",
    "# Find ORFs in parallel\n",
    "n_threads = 4\n",
    "orf_lists = []\n",
    "with concurrent.futures.ThreadPoolExecutor(max_workers=n_threads) as executor:\n",
    "    orf_worker = tuple(executor.map(find_orfs, seq_records))\n",
    "    for done in concurrent.futures.as_completed(orf_worker):\n",
    "        result = done.result()\n",
    "        orf_lists.append(result)"
   ]
  },
  {
   "cell_type": "code",
   "execution_count": null,
   "id": "bae62adf-0e58-4a0a-80bc-b28449322fa3",
   "metadata": {},
   "outputs": [],
   "source": []
  }
 ],
 "metadata": {
  "kernelspec": {
   "display_name": "Python 3 (ipykernel)",
   "language": "python",
   "name": "python3"
  },
  "language_info": {
   "codemirror_mode": {
    "name": "ipython",
    "version": 3
   },
   "file_extension": ".py",
   "mimetype": "text/x-python",
   "name": "python",
   "nbconvert_exporter": "python",
   "pygments_lexer": "ipython3",
   "version": "3.10.6"
  }
 },
 "nbformat": 4,
 "nbformat_minor": 5
}
