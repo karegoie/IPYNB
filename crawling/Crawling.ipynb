{
 "cells": [
  {
   "cell_type": "code",
   "execution_count": 19,
   "id": "242b0c58",
   "metadata": {},
   "outputs": [],
   "source": [
    "from bs4 import BeautifulSoup as bs\n",
    "import re\n",
    "import requests\n",
    "from multiprocessing import Pool, Queue\n",
    "import wget"
   ]
  },
  {
   "cell_type": "code",
   "execution_count": 20,
   "id": "cb18d88c",
   "metadata": {},
   "outputs": [],
   "source": [
    "data = []\n",
    "with open(\"./brassicaceae.tsv\") as f:\n",
    "    while True:\n",
    "        line = f.readline()\n",
    "        try: \n",
    "            data.append([line.split(\"\\t\")[0].strip(), line.split(\"\\t\")[1].strip()])\n",
    "        except IndexError:\n",
    "            data.append([line.split(\"\\t\")[0].strip(), \"-\"])\n",
    "        if not line: break"
   ]
  },
  {
   "cell_type": "code",
   "execution_count": 21,
   "id": "2edefd2e",
   "metadata": {},
   "outputs": [],
   "source": [
    "cycle = r\"(.*erennial.*)!(.*nnual.*)\" \n",
    "def crawl_once(element):\n",
    "    try: \n",
    "        req = requests.get(f\"http://worldfloraonline.org/taxon/{element[0]}\", timeout=30)\n",
    "    except requests.exceptions.ConnectTimeout:\n",
    "        return None\n",
    "    soup = bs(req.text, \"html.parser\")\n",
    "    general = soup.select(\"#general\")\n",
    "    morphology = soup.select(\"#morphology\")\n",
    "    if (bool(re.compile(cycle).search(str(general))) or bool(re.compile(cycle).search(str(morphology)))): \n",
    "        return element[1]"
   ]
  },
  {
   "cell_type": "code",
   "execution_count": 22,
   "id": "b1306ee0",
   "metadata": {},
   "outputs": [],
   "source": [
    "pool = Pool(processes=80)\n",
    "naive = pool.map(crawl_once, data)\n",
    "target = []\n",
    "for e in naive:\n",
    "    if e != None: target.append(e)"
   ]
  },
  {
   "cell_type": "code",
   "execution_count": 23,
   "id": "b16604f7",
   "metadata": {},
   "outputs": [],
   "source": [
    "with open(\"PerennialBrassicaceae.txt\", \"w\") as f:\n",
    "    for w in target:\n",
    "        f.write(f\"{w}\\n\")"
   ]
  },
  {
   "cell_type": "code",
   "execution_count": 25,
   "id": "a1024dc1",
   "metadata": {},
   "outputs": [
    {
     "ename": "IndexError",
     "evalue": "list index out of range",
     "output_type": "error",
     "traceback": [
      "\u001b[0;31m---------------------------------------------------------------------------\u001b[0m",
      "\u001b[0;31mIndexError\u001b[0m                                Traceback (most recent call last)",
      "Cell \u001b[0;32mIn [25], line 1\u001b[0m\n\u001b[0;32m----> 1\u001b[0m \u001b[43mtarget\u001b[49m\u001b[43m[\u001b[49m\u001b[38;5;241;43m0\u001b[39;49m\u001b[43m]\u001b[49m\n",
      "\u001b[0;31mIndexError\u001b[0m: list index out of range"
     ]
    }
   ],
   "source": [
    "target[0]"
   ]
  },
  {
   "cell_type": "code",
   "execution_count": null,
   "id": "ff6c8901",
   "metadata": {},
   "outputs": [],
   "source": []
  }
 ],
 "metadata": {
  "kernelspec": {
   "display_name": "Python 3 (ipykernel)",
   "language": "python",
   "name": "python3"
  },
  "language_info": {
   "codemirror_mode": {
    "name": "ipython",
    "version": 3
   },
   "file_extension": ".py",
   "mimetype": "text/x-python",
   "name": "python",
   "nbconvert_exporter": "python",
   "pygments_lexer": "ipython3",
   "version": "3.10.6"
  }
 },
 "nbformat": 4,
 "nbformat_minor": 5
}
