{
 "cells": [
  {
   "cell_type": "code",
   "execution_count": 556,
   "id": "d29237ca-8460-43c9-b0a0-98b26b9996d3",
   "metadata": {},
   "outputs": [],
   "source": [
    "from math import sqrt\n",
    "\n",
    "from numpy import (array, unravel_index, nditer, linalg, random, subtract,\n",
    "                   power, exp, pi, zeros, arange, outer, meshgrid, dot)\n",
    "from collections import defaultdict\n",
    "from warnings import warn\n",
    "\n",
    "\n",
    "def fast_norm(x):\n",
    "    \"\"\"Returns norm-2 of a 1-D numpy array.\n",
    "\n",
    "    * faster than linalg.norm in case of 1-D arrays (numpy 1.9.2rc1).\n",
    "    \"\"\"\n",
    "    return sqrt(dot(x, x.T))\n",
    "\n",
    "\n",
    "class Som:\n",
    "    def __init__(self,x,y,input_len,sigma=1.0,learning_rate=0.5,random_seed=None):\n",
    "        \"\"\"\n",
    "            Initializes a Self Organizing Maps.\n",
    "            x,y - dimensions of the SOM\n",
    "            input_len - number of the elements of the vectors in input\n",
    "            sigma - spread of the neighborhood function (Gaussian), needs to be adequate to the dimensions of the map.\n",
    "            (at the iteration t we have sigma(t) = sigma / (1 + t/T) where T is #num_iteration/2)\n",
    "            learning_rate - initial learning rate\n",
    "            (at the iteration t we have learning_rate(t) = learning_rate / (1 + t/T) where T is #num_iteration/2)\n",
    "            random_seed, random seed to use.\n",
    "        \"\"\"\n",
    "        if sigma >= x/2.0 or sigma >= y/2.0:\n",
    "            warn('Warning: sigma is too high for the dimension of the map.')\n",
    "        if random_seed:\n",
    "            self.random_generator = random.RandomState(random_seed)\n",
    "        else:\n",
    "            self.random_generator = random.RandomState(random_seed)\n",
    "        self.learning_rate = learning_rate\n",
    "        self.sigma = sigma\n",
    "        self.weights = self.random_generator.rand(x,y,input_len)*2-1 # random initialization\n",
    "        self.weights = array([v/linalg.norm(v) for v in self.weights]) # normalization\n",
    "        self.activation_map = zeros((x,y))\n",
    "        self.neigx = arange(x)\n",
    "        self.neigy = arange(y) # used to evaluate the neighborhood function\n",
    "        self.neighborhood = self.gaussian\n",
    "\n",
    "    def _activate(self,x):\n",
    "        \"\"\" Updates matrix activation_map, in this matrix the element i,j is the response of the neuron i,j to x \"\"\"\n",
    "        s = subtract(x,self.weights) # x - w\n",
    "        it = nditer(self.activation_map, flags=['multi_index'])\n",
    "        while not it.finished:\n",
    "            self.activation_map[it.multi_index] = fast_norm(s[it.multi_index]) # || x - w ||\n",
    "            it.iternext()\n",
    "\n",
    "    def activate(self,x):\n",
    "        \"\"\" Returns the activation map to x \"\"\"\n",
    "        self._activate(x)\n",
    "        return self.activation_map\n",
    "\n",
    "    def gaussian(self,c,sigma):\n",
    "        \"\"\" Returns a Gaussian centered in c \"\"\"\n",
    "        d = 2*pi*sigma*sigma\n",
    "        ax = exp(-power(self.neigx-c[0],2)/d)\n",
    "        ay = exp(-power(self.neigy-c[1],2)/d)\n",
    "        return outer(ax,ay) # the external product gives a matrix\n",
    "\n",
    "    def diff_gaussian(self,c,sigma):\n",
    "        \"\"\" Mexican hat centered in c (unused) \"\"\"\n",
    "        xx,yy = meshgrid(self.neigx,self.neigy)\n",
    "        p = power(xx-c[0],2) + power(yy-c[1],2)\n",
    "        d = 2*pi*sigma*sigma\n",
    "        return exp(-(p)/d)*(1-2/d*p)\n",
    "\n",
    "    def winner(self,x):\n",
    "        \"\"\" Computes the coordinates of the winning neuron for the sample x \"\"\"\n",
    "        self._activate(x)\n",
    "        return unravel_index(self.activation_map.argmin(),self.activation_map.shape)\n",
    "\n",
    "    def update(self,x,win,t):\n",
    "        \"\"\"\n",
    "            Updates the weights of the neurons.\n",
    "            x - current pattern to learn\n",
    "            win - position of the winning neuron for x (array or tuple).\n",
    "            t - iteration index\n",
    "        \"\"\"\n",
    "        # eta(t) = eta(0) / (1 + t/T) \n",
    "        # keeps the learning rate nearly constant for the first T iterations and then adjusts it\n",
    "        eta = self.learning_rate/(1+t/self.T)\n",
    "        sig = self.sigma/(1+t/self.T) # sigma and learning rate decrease with the same rule\n",
    "        g = self.neighborhood(win,sig)*eta # improves the performances\n",
    "        it = nditer(g, flags=['multi_index'])\n",
    "        while not it.finished:\n",
    "            # eta * neighborhood_function * (x-w)\n",
    "            self.weights[it.multi_index] += g[it.multi_index]*(x-self.weights[it.multi_index])            \n",
    "            # normalization\n",
    "            self.weights[it.multi_index] = self.weights[it.multi_index] / fast_norm(self.weights[it.multi_index])\n",
    "            it.iternext()\n",
    "\n",
    "    def quantization(self,data):\n",
    "        \"\"\" Assigns a code book (weights vector of the winning neuron) to each sample in data. \"\"\"\n",
    "        q = zeros(data.shape)\n",
    "        for i,x in enumerate(data):\n",
    "            q[i] = self.weights[self.winner(x)]\n",
    "        return q\n",
    "\n",
    "\n",
    "    def random_weights_init(self,data):\n",
    "        \"\"\" Initializes the weights of the SOM picking random samples from data \"\"\"\n",
    "        it = nditer(self.activation_map, flags=['multi_index'])\n",
    "        while not it.finished:\n",
    "            self.weights[it.multi_index] = data[int(self.random_generator.rand()*len(data)-1)]\n",
    "            self.weights[it.multi_index] = self.weights[it.multi_index]/fast_norm(self.weights[it.multi_index])\n",
    "            it.iternext()\n",
    "\n",
    "    def train_random(self,data,num_iteration):        \n",
    "        \"\"\" Trains the SOM picking samples at random from data \"\"\"\n",
    "        self._init_T(num_iteration)        \n",
    "        for iteration in range(num_iteration):\n",
    "            rand_i = int(round(self.random_generator.rand()*len(data)-1)) # pick a random sample\n",
    "            self.update(data[rand_i],self.winner(data[rand_i]),iteration)\n",
    "\n",
    "    def train_batch(self,data,num_iteration):\n",
    "        \"\"\" Trains using all the vectors in data sequentially \"\"\"\n",
    "        self._init_T(len(data)*num_iteration)\n",
    "        iteration = 0\n",
    "        while iteration < num_iteration:\n",
    "            idx = iteration % (len(data)-1)\n",
    "            self.update(data[idx],self.winner(data[idx]),iteration)\n",
    "            iteration += 1\n",
    "\n",
    "    def _init_T(self,num_iteration):\n",
    "        \"\"\" Initializes the parameter T needed to adjust the learning rate \"\"\"\n",
    "        self.T = num_iteration/2 # keeps the learning rate nearly constant for the first half of the iterations\n",
    "\n",
    "    def distance_map(self):\n",
    "        \"\"\" Returns the average distance map of the weights.\n",
    "            (Each mean is normalized in order to sum up to 1) \"\"\"\n",
    "        um = zeros((self.weights.shape[0],self.weights.shape[1]))\n",
    "        it = nditer(um, flags=['multi_index'])\n",
    "        while not it.finished:\n",
    "            for ii in range(it.multi_index[0]-1,it.multi_index[0]+2):\n",
    "                for jj in range(it.multi_index[1]-1,it.multi_index[1]+2):\n",
    "                    if ii >= 0 and ii < self.weights.shape[0] and jj >= 0 and jj < self.weights.shape[1]:\n",
    "                        um[it.multi_index] += fast_norm(self.weights[ii,jj,:]-self.weights[it.multi_index])\n",
    "            it.iternext()\n",
    "        um = um/um.max()\n",
    "        return um\n",
    "\n",
    "    def activation_response(self,data):\n",
    "        \"\"\" \n",
    "            Returns a matrix where the element i,j is the number of times\n",
    "            that the neuron i,j have been winner.\n",
    "        \"\"\"\n",
    "        a = zeros((self.weights.shape[0],self.weights.shape[1]))\n",
    "        for x in data:\n",
    "            a[self.winner(x)] += 1\n",
    "        return a\n",
    "\n",
    "    def quantization_error(self,data):\n",
    "        \"\"\" \n",
    "            Returns the quantization error computed as the average distance between\n",
    "            each input sample and its best matching unit.            \n",
    "        \"\"\"\n",
    "        error = 0\n",
    "        for x in data:\n",
    "            error += fast_norm(x-self.weights[self.winner(x)])\n",
    "        return error/len(data)\n",
    "\n",
    "    def win_map(self,data):\n",
    "        \"\"\"\n",
    "            Returns a dictionary wm where wm[(i,j)] is a list with all the patterns\n",
    "            that have been mapped in the position i,j.\n",
    "        \"\"\"\n",
    "        winmap = defaultdict(list)\n",
    "        for x in data:\n",
    "            winmap[self.winner(x)].append(x)\n",
    "        return winmap\n",
    "\n",
    "### unit tests\n",
    "from numpy.testing import assert_almost_equal, assert_array_almost_equal, assert_array_equal\n",
    "\n",
    "class TestSom:\n",
    "    def setup_method(self, method):\n",
    "        self.som = Som(5,5,1)\n",
    "        for w in self.som.weights: # checking weights normalization\n",
    "            assert_almost_equal(1.0,linalg.norm(w))\n",
    "        self.som.weights = zeros((5,5)) # fake weights\n",
    "        self.som.weights[2,3] = 5.0\n",
    "        self.som.weights[1,1] = 2.0\n",
    "\n",
    "    def test_fast_norm(self):\n",
    "        assert fast_norm(array([1,3])) == sqrt(1+9)\n",
    "\n",
    "    def test_gaussian(self):\n",
    "        bell = self.som.gaussian((2,2),1)\n",
    "        assert bell.max() == 1.0\n",
    "        assert bell.argmax() == 12  # unravel(12) = (2,2)\n",
    "\n",
    "    def test_win_map(self):\n",
    "        winners = self.som.win_map([5.0,2.0])\n",
    "        assert winners[(2,3)][0] == 5.0\n",
    "        assert winners[(1,1)][0] == 2.0\n",
    "\n",
    "    def test_activation_reponse(self):\n",
    "        response = self.som.activation_response([5.0,2.0])\n",
    "        assert response[2,3] == 1\n",
    "        assert response[1,1] == 1\n",
    "\n",
    "    def test_activate(self):\n",
    "        assert self.som.activate(5.0).argmin() == 13.0  # unravel(13) = (2,3)\n",
    "     \n",
    "    def test_quantization_error(self):\n",
    "        self.som.quantization_error([5,2]) == 0.0\n",
    "        self.som.quantization_error([4,1]) == 0.5\n",
    "\n",
    "    def test_quantization(self):\n",
    "        q = self.som.quantization(array([4,2]))\n",
    "        assert q[0] == 5.0\n",
    "        assert q[1] == 2.0\n",
    "\n",
    "    def test_random_seed(self):\n",
    "        som1 = Som(5,5,2,sigma=1.0,learning_rate=0.5,random_seed=1)\n",
    "        som2 = Som(5,5,2,sigma=1.0,learning_rate=0.5,random_seed=1)\n",
    "        assert_array_almost_equal(som1.weights,som2.weights) # same initialization\n",
    "        data = random.rand(100,2)\n",
    "        som1 = Som(5,5,2,sigma=1.0,learning_rate=0.5,random_seed=1)\n",
    "        som1.train_random(data,10)\n",
    "        som2 = Som(5,5,2,sigma=1.0,learning_rate=0.5,random_seed=1)\n",
    "        som2.train_random(data,10)\n",
    "        assert_array_almost_equal(som1.weights,som2.weights) # same state after training\n",
    "\n",
    "    def test_train_batch(self):\n",
    "        som = Som(5,5,2,sigma=1.0,learning_rate=0.5,random_seed=1)\n",
    "        data = array([[4,2],[3,1]])\n",
    "        q1 = som.quantization_error(data)\n",
    "        som.train_batch(data,10)\n",
    "        assert q1 > som.quantization_error(data)\n",
    "\n",
    "    def test_train_random(self):\n",
    "        som = Som(5,5,2,sigma=1.0,learning_rate=0.5,random_seed=1)\n",
    "        data = array([[4,2],[3,1]])\n",
    "        q1 = som.quantization_error(data)\n",
    "        som.train_random(data,10)\n",
    "        assert q1 > som.quantization_error(data)\n",
    "\n",
    "    def test_random_weights_init(self):\n",
    "        som = Som(2,2,2,random_seed=1)\n",
    "        som.random_weights_init(array([[1.0,.0]]))\n",
    "        for w in som.weights:\n",
    "            assert_array_equal(w[0],array([1.0,.0]))"
   ]
  },
  {
   "cell_type": "code",
   "execution_count": 557,
   "id": "aabe5489-6773-4c6d-b39f-f755a9a7334c",
   "metadata": {},
   "outputs": [],
   "source": [
    "import itertools\n",
    "def window(seq, n=2):\n",
    "    \"Returns a sliding window (of width n) over data from the iterable\"\n",
    "    \"   s -> (s0,s1,...s[n-1]), (s1,s2,...,sn), ...                   \"\n",
    "    it = iter(seq)\n",
    "    result = tuple(itertools.islice(it, n))\n",
    "    if len(result) == n:\n",
    "        yield result    \n",
    "    for elem in it:\n",
    "        result = result[1:] + (elem,)\n",
    "        yield result"
   ]
  },
  {
   "cell_type": "code",
   "execution_count": 558,
   "id": "bdc3f280-8b3a-4b48-9605-3b685e592b8b",
   "metadata": {},
   "outputs": [],
   "source": [
    "def count_kmers(read, k):\n",
    "    \"\"\"Count kmer occurrences in a given read.\n",
    "\n",
    "    Parameters\n",
    "    ----------\n",
    "    read : string\n",
    "        A single DNA sequence.\n",
    "    k : int\n",
    "        The value of k for which to count kmers.\n",
    "\n",
    "    Returns\n",
    "    -------\n",
    "    counts : dictionary, {'string': int}\n",
    "        A dictionary of counts keyed by their individual kmers (strings\n",
    "        of length k).\n",
    "\n",
    "    Examples\n",
    "    --------\n",
    "    >>> count_kmers(\"GATGAT\", 3)\n",
    "    {'ATG': 1, 'GAT': 2, 'TGA': 1}\n",
    "    \"\"\"\n",
    "    # Start with an empty dictionary\n",
    "    counts = {}\n",
    "    nucleotides = ['A', 'T', 'G', 'C']\n",
    "    # Add the kmer to the dictionary if it's not there\n",
    "    for i in itertools.product(nucleotides, repeat=k):\n",
    "        counts[\"\".join(i)] = 0\n",
    "    # Calculate how many kmers of length k there are\n",
    "    num_kmers = len(read) - k + 1\n",
    "    # Loop over the kmer start positions\n",
    "    for kmer in window(read, n=k):\n",
    "        kmer = \"\".join(kmer)\n",
    "        if kmer not in counts:\n",
    "            continue\n",
    "        # Increment the count for this kmer\n",
    "        counts[kmer] += 1\n",
    "    # Return the final counts\n",
    "    return counts"
   ]
  },
  {
   "cell_type": "code",
   "execution_count": 559,
   "id": "5809e266-cdf7-48cd-82b0-31ac90ad181d",
   "metadata": {},
   "outputs": [
    {
     "data": {
      "text/plain": [
       "{'AA': 1,\n",
       " 'AT': 1,\n",
       " 'AG': 0,\n",
       " 'AC': 0,\n",
       " 'TA': 0,\n",
       " 'TT': 0,\n",
       " 'TG': 0,\n",
       " 'TC': 1,\n",
       " 'GA': 0,\n",
       " 'GT': 0,\n",
       " 'GG': 0,\n",
       " 'GC': 1,\n",
       " 'CA': 0,\n",
       " 'CT': 0,\n",
       " 'CG': 1,\n",
       " 'CC': 0}"
      ]
     },
     "execution_count": 559,
     "metadata": {},
     "output_type": "execute_result"
    }
   ],
   "source": [
    "count_kmers(\"AATCGC\", 2)"
   ]
  },
  {
   "cell_type": "markdown",
   "id": "2f05fb6e-b803-4b1d-851a-a1d0b79953f5",
   "metadata": {},
   "source": [
    "# RUN"
   ]
  },
  {
   "cell_type": "code",
   "execution_count": 1213,
   "id": "ca50d7a4-0128-4eef-87ec-bf4101ba46f3",
   "metadata": {},
   "outputs": [
    {
     "name": "stderr",
     "output_type": "stream",
     "text": [
      "1it [00:00, 26.31it/s]\n"
     ]
    }
   ],
   "source": [
    "import Bio.SeqIO as SeqIO\n",
    "from tqdm import tqdm\n",
    "import itertools \n",
    "\n",
    "L = 1000000\n",
    "data = {}\n",
    "with open(\"./ecolidouble.fna\", \"r\") as f:\n",
    "    for record in tqdm(SeqIO.parse(f, \"fasta\")):\n",
    "        for i, p in enumerate(range(0, int(len(record.seq)/L)*L, L)):\n",
    "            data[(record.id, i)] = str(record.seq[p:p+L]).upper()"
   ]
  },
  {
   "cell_type": "code",
   "execution_count": 1214,
   "id": "e5309bac-225b-4f9f-809e-24418e82e64d",
   "metadata": {},
   "outputs": [
    {
     "name": "stderr",
     "output_type": "stream",
     "text": [
      "100%|████████████████████████████████████████████████████████████████████████████████████████████████████████████████████████████████████████████████████████████████████████| 9/9 [00:03<00:00,  2.69it/s]\n"
     ]
    }
   ],
   "source": [
    "K = 4\n",
    "kmer_datas = []\n",
    "\n",
    "for k, v in tqdm(data.items()):\n",
    "    kmer_data = list(count_kmers(v, K).values())\n",
    "    assert len(kmer_data) == 4**K\n",
    "    kmer_datas.append(kmer_data)"
   ]
  },
  {
   "cell_type": "code",
   "execution_count": 1215,
   "id": "43547079-5bb0-4533-a28d-15ea2cb408f7",
   "metadata": {},
   "outputs": [],
   "source": [
    "from sklearn.preprocessing import MinMaxScaler\n",
    "sc = MinMaxScaler(feature_range = (0, 1))\n",
    "X = sc.fit_transform(kmer_datas)\n",
    "\n",
    "cnt = 1\n",
    "while som.distance_map().T.min() < 0.9:\n",
    "    print(f\"{cnt} trial\")\n",
    "    som = Som(2, 2, 4**K, sigma=.001,learning_rate=0.5)\n",
    "    #som = Som(2, 1, 4**K, sigma=.001,learning_rate=0.5)\n",
    "    som.random_weights_init(X)\n",
    "\n",
    "    som.train_random(X, 10000)\n",
    "    #som.train_batch(X, 10000)\n",
    "    cnt+=1"
   ]
  },
  {
   "cell_type": "code",
   "execution_count": 1216,
   "id": "183c7936-f213-43f1-9bfb-5d63fd6ab1c2",
   "metadata": {},
   "outputs": [
    {
     "data": {
      "text/plain": [
       "array([[0.94307011, 1.        ],\n",
       "       [0.90897676, 0.99355124]])"
      ]
     },
     "execution_count": 1216,
     "metadata": {},
     "output_type": "execute_result"
    }
   ],
   "source": [
    "som.distance_map().T"
   ]
  },
  {
   "cell_type": "code",
   "execution_count": 1217,
   "id": "b8c61121-9725-4181-9e15-6fbfab95017a",
   "metadata": {},
   "outputs": [],
   "source": [
    "#change = {(0,0) : -1-1j, (0,1): -1+1j, (1,0): 1-1j, (1,1): 1+1j}\n",
    "change = {(0,0) : 1, (0,1): -1, (1,0): 1j, (1,1): -1j}"
   ]
  },
  {
   "cell_type": "code",
   "execution_count": 1218,
   "id": "5078e60a-fcb6-4efc-8d82-b4055518bf60",
   "metadata": {},
   "outputs": [],
   "source": [
    "raw_spec = [change[som.winner(i)] for i in X]\n",
    "# raw_spec= [sum(som.winner(i)) for i in X]"
   ]
  },
  {
   "cell_type": "code",
   "execution_count": 1219,
   "id": "198d53a9-5e96-408f-ab31-53216adaee68",
   "metadata": {},
   "outputs": [],
   "source": [
    "import numpy as np\n",
    "raw_spec = np.array(raw_spec)"
   ]
  },
  {
   "cell_type": "code",
   "execution_count": 1220,
   "id": "370a88ac-5a2a-4edd-b322-bbb4ad9a1c3f",
   "metadata": {},
   "outputs": [
    {
     "data": {
      "text/plain": [
       "array([-1,  1, -1, -1])"
      ]
     },
     "execution_count": 1220,
     "metadata": {},
     "output_type": "execute_result"
    }
   ],
   "source": [
    "raw_spec[:4]"
   ]
  },
  {
   "cell_type": "code",
   "execution_count": 1221,
   "id": "a539c95f-82d0-4a58-b0d9-855778a68bd6",
   "metadata": {},
   "outputs": [],
   "source": [
    "import pywt"
   ]
  },
  {
   "cell_type": "code",
   "execution_count": 1222,
   "id": "ebfcd26c-2878-49f9-9e52-9aa63c49255b",
   "metadata": {},
   "outputs": [
    {
     "data": {
      "text/plain": [
       "9"
      ]
     },
     "execution_count": 1222,
     "metadata": {},
     "output_type": "execute_result"
    }
   ],
   "source": [
    "len(raw_spec)"
   ]
  },
  {
   "cell_type": "code",
   "execution_count": 1223,
   "id": "1f8deb25-aa26-4d77-b610-31716d27c674",
   "metadata": {},
   "outputs": [
    {
     "data": {
      "image/png": "[encoded data removed]",
      "text/plain": [
       "<Figure size 640x480 with 2 Axes>"
      ]
     },
     "metadata": {},
     "output_type": "display_data"
    }
   ],
   "source": [
    "start = 1\n",
    "D = len(raw_spec)\n",
    "cwtmatr, freqs = pywt.cwt(raw_spec[1+start:D+start], list(range(1, 10)), 'cmor4-1.0')\n",
    "plt.imshow(np.absolute(cwtmatr),  cmap='jet', aspect='auto',vmax=np.absolute(cwtmatr).max(), vmin=0) \n",
    "#plt.plot(np.angle(raw_spec[1+start:D+start])/1.57)\n",
    "#plt.plot([1+start:100+start])\n",
    "plt.colorbar()\n",
    "plt.show() "
   ]
  },
  {
   "cell_type": "code",
   "execution_count": null,
   "id": "bbfd39a3-904c-4d16-b879-e14fc254ad32",
   "metadata": {},
   "outputs": [],
   "source": []
  },
  {
   "cell_type": "code",
   "execution_count": null,
   "id": "d735c26e-7cef-41f9-808b-8dcc481c2ec0",
   "metadata": {},
   "outputs": [],
   "source": []
  },
  {
   "cell_type": "code",
   "execution_count": 542,
   "id": "da52e765-7598-4e20-b2a0-727a484d849b",
   "metadata": {},
   "outputs": [],
   "source": [
    "fft = np.fft.fft(raw_spec) / len(raw_spec)  \n",
    " \n",
    "fft_magnitude = abs(fft)\n",
    "shift = np.fft.fftshift(fft_magnitude)"
   ]
  },
  {
   "cell_type": "code",
   "execution_count": 543,
   "id": "cb274a41-3afd-4367-9dab-3c7e466f8418",
   "metadata": {},
   "outputs": [
    {
     "data": {
      "image/png": "[encoded data removed]",
      "text/plain": [
       "<Figure size 640x480 with 1 Axes>"
      ]
     },
     "metadata": {},
     "output_type": "display_data"
    }
   ],
   "source": [
    "length = len(raw_spec)\n",
    "\n",
    "fs = length\n",
    "f = np.round(np.linspace(-(fs / 2), fs / 2, length)[int(length/2):int(length/2)+22])\n",
    " \n",
    "plt.stem(f, shift[int(length/2):int(length/2)+22]) \n",
    "\n",
    "plt.ylim(0,0.1)\n",
    "plt.grid()\n",
    "\n",
    "plt.savefig(\"./ecolidouble.jpg\")\n",
    "plt.show()"
   ]
  },
  {
   "cell_type": "code",
   "execution_count": 544,
   "id": "faecbc02-e5d8-43b1-808f-9a697e6b429e",
   "metadata": {},
   "outputs": [
    {
     "name": "stdout",
     "output_type": "stream",
     "text": [
      "[1.3169770679555541, 0.027487824973584894, 0.027487824973584887, 0.02348633662720106, 0.02348633662720105, 0.02272254001623008, 0.02272254001623008, 0.022171102117552972, 0.02217110211755297, 0.021893224402072118]\n",
      "[1, 5, 209, 137, 237, 449, 169, 401, 413, 557]\n",
      "[19034500, 3806900, 91000, 138900, 80300, 42300, 112600, 47400, 46000, 34100]\n"
     ]
    }
   ],
   "source": [
    "print(sorted(shift, reverse=True)[:10])\n",
    "print([i for i in list(map(lambda x: x - length // 2 + 1, reversed(np.argsort(shift)))) if i > 0][:10]) \n",
    "print([(length // i)*L for i in list(map(lambda x: x - length // 2 + 1, reversed(np.argsort(shift)))) if i > 0][:10]) "
   ]
  },
  {
   "cell_type": "code",
   "execution_count": 555,
   "id": "bd4df73c-233f-482f-8c1f-ee044dc5b85a",
   "metadata": {},
   "outputs": [
    {
     "data": {
      "image/png": "[encoded data removed]",
      "text/plain": [
       "<Figure size 1200x500 with 2 Axes>"
      ]
     },
     "metadata": {},
     "output_type": "display_data"
    }
   ],
   "source": [
    "from scipy import signal\n",
    "\n",
    "def draw_stft(f, t, Zxx):\n",
    "    plt.figure(figsize=(12,5))\n",
    "    plt.pcolormesh(t, f, np.abs(Zxx), vmin=0, vmax=1, shading='gouraud')\n",
    "    plt.title('STFT Magnitude'); plt.ylabel('Frequency [Hz]')\n",
    "    plt.colorbar()\n",
    "    plt.xlabel('Neucleotide'); plt.ylim([0, 1]); plt.show()\n",
    "\n",
    "def calc_stft(nperseg):\n",
    "    f, t, Zxx = signal.stft(raw_spec, length, nperseg=nperseg)\n",
    "    draw_stft(f, t, Zxx)\n",
    "\n",
    "calc_stft(20000)"
   ]
  },
  {
   "cell_type": "code",
   "execution_count": 490,
   "id": "9d8da31a-f2d0-42b5-beea-c30c26ed905c",
   "metadata": {},
   "outputs": [
    {
     "data": {
      "text/plain": [
       "(array([     0.  ,    951.72,   1903.44,   2855.16,   3806.88,   4758.6 ,\n",
       "          5710.32,   6662.04,   7613.76,   8565.48,   9517.2 ,  10468.92,\n",
       "         11420.64,  12372.36,  13324.08,  14275.8 ,  15227.52,  16179.24,\n",
       "         17130.96,  18082.68,  19034.4 ,  19986.12,  20937.84,  21889.56,\n",
       "         22841.28,  23793.  ,  24744.72,  25696.44,  26648.16,  27599.88,\n",
       "         28551.6 ,  29503.32,  30455.04,  31406.76,  32358.48,  33310.2 ,\n",
       "         34261.92,  35213.64,  36165.36,  37117.08,  38068.8 ,  39020.52,\n",
       "         39972.24,  40923.96,  41875.68,  42827.4 ,  43779.12,  44730.84,\n",
       "         45682.56,  46634.28, -47586.  , -46634.28, -45682.56, -44730.84,\n",
       "        -43779.12, -42827.4 , -41875.68, -40923.96, -39972.24, -39020.52,\n",
       "        -38068.8 , -37117.08, -36165.36, -35213.64, -34261.92, -33310.2 ,\n",
       "        -32358.48, -31406.76, -30455.04, -29503.32, -28551.6 , -27599.88,\n",
       "        -26648.16, -25696.44, -24744.72, -23793.  , -22841.28, -21889.56,\n",
       "        -20937.84, -19986.12, -19034.4 , -18082.68, -17130.96, -16179.24,\n",
       "        -15227.52, -14275.8 , -13324.08, -12372.36, -11420.64, -10468.92,\n",
       "         -9517.2 ,  -8565.48,  -7613.76,  -6662.04,  -5710.32,  -4758.6 ,\n",
       "         -3806.88,  -2855.16,  -1903.44,   -951.72]),\n",
       " array([0.00000000e+00, 5.25364603e-04, 1.05072921e-03, ...,\n",
       "        9.99243475e-01, 9.99768840e-01, 1.00029420e+00]),\n",
       " array([[ 0.21680173+0.10221686j,  0.27770638+0.30084884j,\n",
       "          0.22647364+0.09991193j, ..., -0.30663118+0.12504165j,\n",
       "          0.16389957-0.0333693j ,  0.02803013-0.006757j  ],\n",
       "        [-0.17324297+0.10661995j, -0.16695078-0.18329044j,\n",
       "         -0.17535939+0.00264656j, ...,  0.24559283-0.34904779j,\n",
       "         -0.16153869+0.13392647j,  0.00909382-0.03144837j],\n",
       "        [-0.02068697-0.12057535j,  0.05894171-0.1581563j ,\n",
       "          0.30935927-0.00591992j, ..., -0.14623877+0.3911501j ,\n",
       "          0.01229309+0.02600732j, -0.02354083-0.02433777j],\n",
       "        ...,\n",
       "        [ 0.25638038-0.04880035j, -0.22787316+0.02667363j,\n",
       "         -0.02505063-0.12664857j, ..., -0.11298446+0.01763536j,\n",
       "         -0.2617912 +0.07847325j, -0.00840219-0.00350151j],\n",
       "        [-0.11962972+0.22822753j,  0.08141324+0.18957437j,\n",
       "         -0.04124829+0.09270103j, ...,  0.13303467-0.0320097j ,\n",
       "          0.35961676+0.03002433j, -0.00683888+0.0138009j ],\n",
       "        [-0.07107882-0.233491j  , -0.13190796-0.23971991j,\n",
       "         -0.10263407-0.08374338j, ...,  0.11406064+0.0194136j ,\n",
       "         -0.30340475-0.12902623j,  0.01501502+0.01701636j]]))"
      ]
     },
     "execution_count": 490,
     "metadata": {},
     "output_type": "execute_result"
    }
   ],
   "source": [
    "signal.stft(raw_spec, length, nperseg=100) # f, t, Zxx"
   ]
  },
  {
   "cell_type": "code",
   "execution_count": 468,
   "id": "e79b23cf-1edb-48c2-8755-50e028a474ea",
   "metadata": {},
   "outputs": [
    {
     "data": {
      "image/png": "[encoded data removed]",
      "text/plain": [
       "<Figure size 1200x500 with 1 Axes>"
      ]
     },
     "metadata": {},
     "output_type": "display_data"
    }
   ],
   "source": [
    "from scipy import signal\n",
    "\n",
    "def draw_stft(f, t, Zxx):\n",
    "    plt.figure(figsize=(12,5))\n",
    "    plt.pcolormesh(t, f, np.abs(Zxx), vmin=0, vmax=1, shading='gouraud')\n",
    "    plt.title('STFT Magnitude'); plt.ylabel('Frequency [Hz]')\n",
    "    plt.xlabel('Neucleotide'); plt.ylim([0, 1]); plt.show()\n",
    "\n",
    "def calc_stft(nperseg):\n",
    "    f, t, Zxx = signal.stft(raw_spec[length//2-1000:length//2], length*L, nperseg=nperseg)\n",
    "    draw_stft(f, t, Zxx)\n",
    "\n",
    "calc_stft(5)"
   ]
  },
  {
   "cell_type": "markdown",
   "id": "2365a6f6-96a0-4bc1-b2c5-8e597d6d807d",
   "metadata": {},
   "source": [
    "Frequency change point estimation"
   ]
  },
  {
   "cell_type": "code",
   "execution_count": 74,
   "id": "86613848-c126-4bc4-9357-466f1fae2ae8",
   "metadata": {},
   "outputs": [],
   "source": [
    "#print(kmer_datas[0])"
   ]
  },
  {
   "cell_type": "markdown",
   "id": "885c7b10-1066-401d-9ac6-dfffe30ffb4e",
   "metadata": {},
   "source": [
    "# Transcriptome data"
   ]
  },
  {
   "cell_type": "code",
   "execution_count": 209,
   "id": "e9246105-7519-4b40-983d-79387cc1bc38",
   "metadata": {},
   "outputs": [],
   "source": [
    "import pandas as pd\n",
    "\n",
    "X = pd.read_csv(\"./RSEM.isoform.TMM.EXPR.matrix\", sep=\"\\t\", index_col=0)"
   ]
  },
  {
   "cell_type": "code",
   "execution_count": 210,
   "id": "4429acfb-2fa2-4d7a-9d1c-e6180eebaa3f",
   "metadata": {},
   "outputs": [
    {
     "data": {
      "text/plain": [
       "(51125, 36)"
      ]
     },
     "execution_count": 210,
     "metadata": {},
     "output_type": "execute_result"
    }
   ],
   "source": [
    "np.shape(X)"
   ]
  },
  {
   "cell_type": "code",
   "execution_count": 212,
   "id": "9deade5a-f44f-4765-9a13-abb002432a5e",
   "metadata": {},
   "outputs": [],
   "source": [
    "from sklearn.preprocessing import MinMaxScaler\n",
    "sc = MinMaxScaler(feature_range = (1, 2))\n",
    "X = sc.fit_transform(X)\n",
    "\n",
    "#som = Som(2, 1, 4**K, sigma=.001,learning_rate=0.5)\n",
    "som = Som(3, 4, 36, sigma=.02, learning_rate=0.7)\n",
    "som.random_weights_init(X)\n",
    "\n",
    "som.train_random(X, 1000)\n",
    "#som.train_batch(X, 1000)"
   ]
  },
  {
   "cell_type": "code",
   "execution_count": 213,
   "id": "93f336e9-66ce-4ec0-bf5a-96d9fa3649e0",
   "metadata": {},
   "outputs": [
    {
     "data": {
      "text/plain": [
       "array([[0.021707  , 0.28235342, 0.74757947],\n",
       "       [0.17484843, 0.49042698, 0.42712805],\n",
       "       [0.23915455, 1.        , 0.27354045],\n",
       "       [0.1664343 , 0.23432017, 0.16660569]])"
      ]
     },
     "execution_count": 213,
     "metadata": {},
     "output_type": "execute_result"
    }
   ],
   "source": [
    "som.distance_map().T"
   ]
  },
  {
   "cell_type": "code",
   "execution_count": 215,
   "id": "7f221254-c632-4010-a74e-284983de275b",
   "metadata": {},
   "outputs": [
    {
     "data": {
      "image/png": "[encoded data removed]",
      "text/plain": [
       "<Figure size 640x480 with 2 Axes>"
      ]
     },
     "metadata": {},
     "output_type": "display_data"
    }
   ],
   "source": [
    "from pylab import bone, pcolor, colorbar, plot, show\n",
    "bone()\n",
    "pcolor(som.distance_map().T)\n",
    "colorbar()\n",
    "markers = ['o', 's']\n",
    "colors = ['r', 'g']\n",
    "#y = [0, 0, 1, 1, 0]\n",
    "for i, x in enumerate(X):\n",
    "    w = som.winner(x)\n",
    "    #print(w[0], end=\"\\t\")\n",
    "    #plot(w[0] + 0.5, w[1] + 0.5, markers[y[i]], markeredgecolor = colors[y[i]], markerfacecolor = 'None', markersize = 10, markeredgewidth = 2)\n",
    "show()"
   ]
  },
  {
   "cell_type": "markdown",
   "id": "398e1fa5-ecc4-4150-b45f-7ea7fbbaa332",
   "metadata": {},
   "source": [
    "Os Vv Sl Nn Gm"
   ]
  },
  {
   "cell_type": "code",
   "execution_count": 77,
   "id": "377c3fb1-874f-4d82-8736-96ddbd87ef50",
   "metadata": {},
   "outputs": [],
   "source": [
    "data = load_digits()"
   ]
  },
  {
   "cell_type": "code",
   "execution_count": 25,
   "id": "cdad9632-93f7-422e-9c6c-354629439491",
   "metadata": {},
   "outputs": [
    {
     "data": {
      "text/plain": [
       "array([[ 0.,  0.,  5., ...,  0.,  0.,  0.],\n",
       "       [ 0.,  0.,  0., ..., 10.,  0.,  0.],\n",
       "       [ 0.,  0.,  0., ..., 16.,  9.,  0.],\n",
       "       ...,\n",
       "       [ 0.,  0.,  1., ...,  6.,  0.,  0.],\n",
       "       [ 0.,  0.,  2., ..., 12.,  0.,  0.],\n",
       "       [ 0.,  0., 10., ..., 12.,  1.,  0.]])"
      ]
     },
     "execution_count": 25,
     "metadata": {},
     "output_type": "execute_result"
    }
   ],
   "source": [
    "data.data"
   ]
  },
  {
   "cell_type": "code",
   "execution_count": null,
   "id": "9dde4479-4801-4fd9-b255-e518d33a3860",
   "metadata": {},
   "outputs": [],
   "source": []
  }
 ],
 "metadata": {
  "kernelspec": {
   "display_name": "Python 3 (ipykernel)",
   "language": "python",
   "name": "python3"
  },
  "language_info": {
   "codemirror_mode": {
    "name": "ipython",
    "version": 3
   },
   "file_extension": ".py",
   "mimetype": "text/x-python",
   "name": "python",
   "nbconvert_exporter": "python",
   "pygments_lexer": "ipython3",
   "version": "3.10.6"
  }
 },
 "nbformat": 4,
 "nbformat_minor": 5
}
