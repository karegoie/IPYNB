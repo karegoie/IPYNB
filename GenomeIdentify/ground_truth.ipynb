{
 "cells": [
  {
   "cell_type": "code",
   "execution_count": 1,
   "id": "f600d795-eb62-4eb2-b461-52440a4a6daa",
   "metadata": {},
   "outputs": [],
   "source": [
    "import Bio.SeqIO as SeqIO\n",
    "import random\n",
    "import numpy as np\n",
    "from sklearn.preprocessing import MinMaxScaler\n",
    "import sklearn.cluster as cluster\n",
    "from tqdm import tqdm\n",
    "import pywt\n",
    "import matplotlib.pyplot as plt"
   ]
  },
  {
   "cell_type": "code",
   "execution_count": 2,
   "id": "e7de500f-78a3-4adb-be6f-743eea90c4bf",
   "metadata": {},
   "outputs": [],
   "source": [
    "import itertools\n",
    "def window(seq, n=2):\n",
    "    \"Returns a sliding window (of width n) over data from the iterable\"\n",
    "    \"   s -> (s0,s1,...s[n-1]), (s1,s2,...,sn), ...                   \"\n",
    "    it = iter(seq)\n",
    "    result = tuple(itertools.islice(it, n))\n",
    "    if len(result) == n:\n",
    "        yield result    \n",
    "    for elem in it:\n",
    "        result = result[1:] + (elem,)\n",
    "        yield result"
   ]
  },
  {
   "cell_type": "code",
   "execution_count": 3,
   "id": "2dc60a07-6f6a-456d-b6ca-0b9346379671",
   "metadata": {},
   "outputs": [],
   "source": [
    "def count_kmers(read, k):\n",
    "    \"\"\"Count kmer occurrences in a given read.\n",
    "\n",
    "    Parameters\n",
    "    ----------\n",
    "    read : string\n",
    "        A single DNA sequence.\n",
    "    k : int\n",
    "        The value of k for which to count kmers.\n",
    "\n",
    "    Returns\n",
    "    -------\n",
    "    counts : dictionary, {'string': int}\n",
    "        A dictionary of counts keyed by their individual kmers (strings\n",
    "        of length k).\n",
    "\n",
    "    Examples\n",
    "    --------\n",
    "    >>> count_kmers(\"GATGAT\", 3)\n",
    "    {'ATG': 1, 'GAT': 2, 'TGA': 1}\n",
    "    \"\"\"\n",
    "    # Start with an empty dictionary\n",
    "    counts = {}\n",
    "    nucleotides = ['A', 'T', 'G', 'C']\n",
    "    # Add the kmer to the dictionary if it's not there\n",
    "    for i in itertools.product(nucleotides, repeat=k):\n",
    "        counts[\"\".join(i)] = 0\n",
    "    # Calculate how many kmers of length k there are\n",
    "    num_kmers = len(read) - k + 1\n",
    "    # Loop over the kmer start positions\n",
    "    for kmer in window(read, n=k):\n",
    "        kmer = \"\".join(kmer)\n",
    "        if kmer not in counts:\n",
    "            continue\n",
    "        # Increment the count for this kmer\n",
    "        counts[kmer] += 1\n",
    "    # Return the final counts\n",
    "    return counts"
   ]
  },
  {
   "cell_type": "code",
   "execution_count": 4,
   "id": "349168c5-d6bd-4ff2-b832-8fbf04bd5a7e",
   "metadata": {},
   "outputs": [],
   "source": [
    "def dict2array(d):\n",
    "    return list(d.values())"
   ]
  },
  {
   "cell_type": "code",
   "execution_count": 5,
   "id": "d7429bb7-c1d8-41c4-93a7-afc1c8b9378c",
   "metadata": {},
   "outputs": [],
   "source": [
    "def shortest_key(d):\n",
    "    return sorted([(len(v), k) for k, v in d.items()])[0][1]"
   ]
  },
  {
   "cell_type": "code",
   "execution_count": 8,
   "id": "f2c56f3d-a028-4813-9e35-c76dfa2db529",
   "metadata": {},
   "outputs": [
    {
     "name": "stderr",
     "output_type": "stream",
     "text": [
      "0it [02:44, ?it/s]\n"
     ]
    },
    {
     "ename": "KeyboardInterrupt",
     "evalue": "",
     "output_type": "error",
     "traceback": [
      "\u001b[0;31m---------------------------------------------------------------------------\u001b[0m",
      "\u001b[0;31mKeyboardInterrupt\u001b[0m                         Traceback (most recent call last)",
      "Cell \u001b[0;32mIn [8], line 11\u001b[0m\n\u001b[1;32m      9\u001b[0m data_ctg[record\u001b[38;5;241m.\u001b[39mid] \u001b[38;5;241m=\u001b[39m \u001b[38;5;28mstr\u001b[39m(record\u001b[38;5;241m.\u001b[39mseq)\u001b[38;5;241m.\u001b[39mupper()\n\u001b[1;32m     10\u001b[0m \u001b[38;5;28;01mfor\u001b[39;00m i, p \u001b[38;5;129;01min\u001b[39;00m \u001b[38;5;28menumerate\u001b[39m(\u001b[38;5;28mrange\u001b[39m(\u001b[38;5;241m1\u001b[39m, \u001b[38;5;28mlen\u001b[39m(record\u001b[38;5;241m.\u001b[39mseq)\u001b[38;5;241m/\u001b[39m\u001b[38;5;241m/\u001b[39mL, L)):\n\u001b[0;32m---> 11\u001b[0m     data[(record\u001b[38;5;241m.\u001b[39mid, i)] \u001b[38;5;241m=\u001b[39m \u001b[38;5;28;43mstr\u001b[39;49m\u001b[43m(\u001b[49m\u001b[43mrecord\u001b[49m\u001b[38;5;241;43m.\u001b[39;49m\u001b[43mseq\u001b[49m\u001b[43m)\u001b[49m\u001b[38;5;241;43m.\u001b[39;49m\u001b[43mupper\u001b[49m\u001b[43m(\u001b[49m\u001b[43m)\u001b[49m[p:p\u001b[38;5;241m+\u001b[39mL]\n\u001b[1;32m     12\u001b[0m     \u001b[38;5;28;01mif\u001b[39;00m record\u001b[38;5;241m.\u001b[39mid \u001b[38;5;129;01mnot\u001b[39;00m \u001b[38;5;129;01min\u001b[39;00m ctg_index\u001b[38;5;241m.\u001b[39mkeys(): ctg_index[record\u001b[38;5;241m.\u001b[39mid] \u001b[38;5;241m=\u001b[39m []\n\u001b[1;32m     13\u001b[0m     ctg_index[record\u001b[38;5;241m.\u001b[39mid]\u001b[38;5;241m.\u001b[39mappend(i)\n",
      "\u001b[0;31mKeyboardInterrupt\u001b[0m: "
     ]
    }
   ],
   "source": [
    "L = 1\n",
    "K = 1\n",
    "\n",
    "data = {}\n",
    "\n",
    "with open(\"./At.fna\", \"r\") as f:\n",
    "    for record in tqdm(SeqIO.parse(f, \"fasta\")):\n",
    "        for i, p in enumerate(range(0, len(record.seq)//L, L)):\n",
    "            data[f\"{record.id}_{i}\"] = str(record.seq[p:p+L]).upper()"
   ]
  },
  {
   "cell_type": "code",
   "execution_count": null,
   "id": "8cb9be65-296b-469a-99f3-151bf6eaa309",
   "metadata": {},
   "outputs": [],
   "source": [
    "sc = MinMaxScaler(feature_range = (0, 1))\n",
    "X = sc.fit_transform(dict2array(kmer_datas))\n",
    "\"\"\"\n",
    "cnt = 1\n",
    "som = Som(2, 2, 4**K, sigma=.001,learning_rate=1e-5)\n",
    "while som.distance_map().T.sum() / 4 > 0.95:\n",
    "    print(f\"{cnt} trial\")\n",
    "    som = Som(2, 2, 4**K, sigma=.001,learning_rate=1e-5)\n",
    "    #som = Som(2, 1, 4**K, sigma=.001,learning_rate=0.5)\n",
    "    som.random_weights_init(X)\n",
    "\n",
    "    som.train_random(X, 10000)\n",
    "    #som.train_batch(X, 10000)\n",
    "    cnt+=1\n",
    "print(som.distance_map().T)\n",
    "\"\"\"\n",
    "\n",
    "change = {0 : 1, 1: -1, 2: 1j, 3: -1j}\n",
    "\n",
    "length = [-1]\n",
    "for i in list(map(len, ctg_index.values())):\n",
    "    length.append(i + length[-1])\n",
    "del length[0]\n",
    "\n",
    "#print(length)\n",
    "raw_spec = {}\n",
    "kmc = cluster.KMeans(n_clusters=4)\n",
    "\n",
    "Y = kmc.fit_predict(X)\n",
    "# print(np.shape(X), np.shape(Y))\n",
    "# print(Y)\n",
    "for i, k in enumerate(data_ctg.keys()):\n",
    "    if k not in raw_spec.keys(): raw_spec[k] = []\n",
    "    if length[-1] == length[i]:\n",
    "        for g in Y[length[i]:]:\n",
    "            raw_spec[k].append(change[g])\n",
    "        continue\n",
    "    #print(np.shape(X[length[i]: length[i+1] + 1]))\n",
    "    for g in Y[length[i]: length[i+1] + 1]:\n",
    "        raw_spec[k].append(change[g])"
   ]
  }
 ],
 "metadata": {
  "kernelspec": {
   "display_name": "Python 3 (ipykernel)",
   "language": "python",
   "name": "python3"
  },
  "language_info": {
   "codemirror_mode": {
    "name": "ipython",
    "version": 3
   },
   "file_extension": ".py",
   "mimetype": "text/x-python",
   "name": "python",
   "nbconvert_exporter": "python",
   "pygments_lexer": "ipython3",
   "version": "3.10.6"
  }
 },
 "nbformat": 4,
 "nbformat_minor": 5
}
