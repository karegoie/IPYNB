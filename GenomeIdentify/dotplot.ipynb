{
 "cells": [
  {
   "cell_type": "code",
   "execution_count": 5,
   "id": "92404dfa",
   "metadata": {},
   "outputs": [],
   "source": [
    "import itertools\n",
    "import os\n",
    "\n",
    "for i, j in itertools.combinations([f for f in os.listdir('./scaffold') if f.endswith('fasta')], 2):\n",
    "    os.system(f'cat ./scaffold/{i} ./scaffold/{j} > ./choose/{i[:-6]}_{j[:-6]}.fa')"
   ]
  },
  {
   "cell_type": "code",
   "execution_count": null,
   "id": "11a84a3f",
   "metadata": {},
   "outputs": [],
   "source": [
    "from cogent3 import load_aligned_seqs\n",
    "\n",
    "\"\"\"for filename in os.listdir('./aligned'):\n",
    "    seqs = load_aligned_seqs(f'./aligned/{filename}', moltype=\"dna\")\n",
    "    draw = seqs.dotplot()\n",
    "\n",
    "    draw.show()\"\"\"\n",
    "\n",
    "seqs = load_aligned_seqs(f'./scaffold/{os.listdir(\"./scaffold\")[0]}', moltype=\"dna\")\n",
    "seqs.dotplot().show()"
   ]
  },
  {
   "cell_type": "code",
   "execution_count": null,
   "id": "9787f3fe",
   "metadata": {},
   "outputs": [],
   "source": []
  }
 ],
 "metadata": {
  "kernelspec": {
   "display_name": "Python 3 (ipykernel)",
   "language": "python",
   "name": "python3"
  },
  "language_info": {
   "codemirror_mode": {
    "name": "ipython",
    "version": 3
   },
   "file_extension": ".py",
   "mimetype": "text/x-python",
   "name": "python",
   "nbconvert_exporter": "python",
   "pygments_lexer": "ipython3",
   "version": "3.10.6"
  }
 },
 "nbformat": 4,
 "nbformat_minor": 5
}
