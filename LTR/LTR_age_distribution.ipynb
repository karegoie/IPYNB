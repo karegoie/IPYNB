{
 "cells": [
  {
   "cell_type": "code",
   "execution_count": null,
   "id": "b741e548",
   "metadata": {},
   "outputs": [],
   "source": [
    "def ltr_extract():\n",
    "    genome_data = {}\n",
    "    with open('temp/genome.fa', 'r') as f:\n",
    "        for record in SeqIO.parse(f, 'fasta'):\n",
    "            genome_data[f'{record.id}'] = record.seq\n",
    "\n",
    "        extract = {}\n",
    "        file = [f for f in os.listdir() if f.endswith('.scn')][0]\n",
    "        with open(file, 'r') as g:\n",
    "            for line in g:\n",
    "                try:\n",
    "                    chro = str(line.split(\"\\t\")[1].strip())\n",
    "                    start = int(line.split(\"\\t\")[2].strip().split(\"-\")[0]) - 1\n",
    "                    end = int(line.split(\"\\t\")[2].strip().split(\"-\")[1]) - 1\n",
    "                    if chro not in extract.keys(): extract[chro] = []\n",
    "                    extract[chro].append(str(genome_data[record.id][start:end+1]))\n",
    "                except ValueError:\n",
    "                    continue\n",
    "\n",
    "        for k, v in extract.items():\n",
    "            extract[k] = ''.join(v)\n",
    "\n",
    "        with open('temp/extract.fa', 'w') as h:\n",
    "            for k, v in extract.items():\n",
    "                if len(v):\n",
    "                    h.write(f'>{k}\\n{v.upper()}\\n')\n",
    "                else:\n",
    "                    continue\n",
    "\n",
    "    del genome_data\n",
    "    del extract"
   ]
  }
 ],
 "metadata": {
  "kernelspec": {
   "display_name": "Python 3 (ipykernel)",
   "language": "python",
   "name": "python3"
  },
  "language_info": {
   "codemirror_mode": {
    "name": "ipython",
    "version": 3
   },
   "file_extension": ".py",
   "mimetype": "text/x-python",
   "name": "python",
   "nbconvert_exporter": "python",
   "pygments_lexer": "ipython3",
   "version": "3.10.6"
  }
 },
 "nbformat": 4,
 "nbformat_minor": 5
}
