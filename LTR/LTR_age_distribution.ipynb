{
 "cells": [
  {
   "cell_type": "code",
   "execution_count": 120,
   "id": "21bbbd1a",
   "metadata": {},
   "outputs": [],
   "source": [
    "def ltr_extract():\n",
    "    import Bio.SeqIO as SeqIO\n",
    "    genome_data = {}\n",
    "    with open('./napus.fna') as f:\n",
    "        for record in SeqIO.parse(f, 'fasta'):\n",
    "            genome_data[str(record.id).replace('.', '_')] = record.seq\n",
    "    \n",
    "    if os.path.exists(\"./extract\"):\n",
    "        for file in os.listdir('./extract'):\n",
    "            os.remove(f'./extract/{file}')\n",
    "    else: \n",
    "        os.makedir('./extract')\n",
    "        \n",
    "    with open('./napus.LTR.gff3', 'r') as g:\n",
    "        cnt = 0\n",
    "        for i, line in enumerate(g):\n",
    "            if line.startswith(\"##\"):\n",
    "                cnt+=1\n",
    "            if not line.startswith(\"#\") and line.split('\\t')[2].strip() == 'long_terminal_repeat':\n",
    "                start = int(line.split('\\t')[3].strip())\n",
    "                end = int(line.split('\\t')[4].strip())\n",
    "                name = line.split(\"\\t\")[0].strip()\n",
    "                with open(f'./extract/{cnt}.fa', 'a')as h:\n",
    "                    h.write(f'>{cnt}_{i%2}\\n{genome_data[name][start:end+1].upper()}\\n')\n",
    "\n",
    "    del genome_data"
   ]
  },
  {
   "cell_type": "code",
   "execution_count": 121,
   "id": "50bf622c",
   "metadata": {},
   "outputs": [],
   "source": [
    "ltr_extract()"
   ]
  },
  {
   "cell_type": "code",
   "execution_count": 123,
   "id": "e6c8e9d0",
   "metadata": {},
   "outputs": [
    {
     "name": "stdout",
     "output_type": "stream",
     "text": [
      ">6505_0\r\n",
      "GTAAGGTTTAAACGTCGATATACTATGTTAAACCTTCGTTCCTTTAGCTAGAATTCGTTTAGCTATGTTACTTGATCGATTAACCTCAATACTAACTTGTGTTCTGTTTGTTTGTATGTAGGAGATAAGACACAGCAAGTTTGTTTACCCAGTTCCCGTGAAGGTACGTCTGGGGGAAGAACAGAGTCTTCCAATTCACTAACTCAAAGAGAAAGAATTAATAAAAGGGTTGTGACCTTAAACTTATAAACGCCAAAGCTTAATCAAGAGCTAAACACCTAGCTCTCTTCTTCTGATTGAACTTAGCCTTCAGGTAAACACAAACGATCTCTCAACCAAGACAATTTGCTCTTTCACCTGAACCTCTCAATCTGTTGTTGTTGCCCCACCCTTCAAGTCACCAACGCGATCTTCTTTTATACTCAGGTTTTATGAAACAAAACCTAGAAGCTGACGTGGGCCACAGTACAACAAATACTCTGGAGGCCTGTTCCACTTCTCTGTGGGCTTCAGACACTTCAGCCCAAGTTCAAGATGGAGACAACAAACCCGACAA\r\n",
      ">6505_1\r\n",
      "GTAAGGTTTAAACGTCGATATACTATGTTAAACCTTCGTTCCTTTAGCTAGAATTCGTTTAGCTATGTTACTTGATCGATTAACCTCAATACTAACTTGTGTTCTGTTTGTTTGTATGTAGGAGATAAGACACAGCAAGTTTGTTTACCCAGTTCCCGTGAAGGTACGTCTGGGGGAAGAACAGAGTCTTCCAATTCACTAACTCAAAGAGAAAGAATTAATAAAAGGGTTGTGACCTTAAACTTATAAACGCCAAAGCTTAATCAAGAGCTAAACACCTAGCTCTCTTCTTCTGATTGAACTTAGCCTTCAGGTAAACACAAACGATCTCTCAACCAAGACAATTTGCTCTTTCACCTGAACCTCTCAATCTGTTGTTGTTGCCCCACCCTTCAAGTCACCAACGCGATCTTCTTTTATACTCAGGTTTTATGAAACAAAACCTAGAAGCTGACGTGGGCCACAGTACAACAAATACTCTGGAGGCCTGTTCCACTTCTCTGTGGGCTTCAGACACTTCAGCCCAAGTTCAAGATGGAGACAACAAACCCGACAT\r\n"
     ]
    }
   ],
   "source": [
    "!cat extract/6505.fa"
   ]
  },
  {
   "cell_type": "code",
   "execution_count": 124,
   "id": "c102a1d7",
   "metadata": {},
   "outputs": [],
   "source": [
    "from Bio.Align.Applications import MafftCommandline\n",
    "import os\n",
    "\n",
    "if os.path.exists(\"./aligned\"):\n",
    "    for file in os.listdir('./aligned'):\n",
    "        os.remove(f'./aligned/{file}')\n",
    "else: \n",
    "    os.makedir('./aligned')\n",
    "        \n",
    "for filename in os.listdir('./extract'):\n",
    "    mafft_cline = MafftCommandline(input=f\"./extract/{filename}\", thread=12)\n",
    "    stdout, stderr = mafft_cline()\n",
    "    with open(f'./aligned/aligned_{filename}', 'w') as f:\n",
    "        f.write(stdout)"
   ]
  },
  {
   "cell_type": "code",
   "execution_count": 139,
   "id": "6a0e4e58",
   "metadata": {},
   "outputs": [
    {
     "data": {
      "text/plain": [
       "0.11535547456537795"
      ]
     },
     "execution_count": 139,
     "metadata": {},
     "output_type": "execute_result"
    }
   ],
   "source": [
    "from cogent3 import get_model, load_aligned_seqs\n",
    "from cogent3.evolve import distance\n",
    "\n",
    "aln = load_aligned_seqs('aligned/aligned_270.fa', moltype=\"dna\")\n",
    "d = distance.EstimateDistances(aln, submodel=get_model(\"K80\"))\n",
    "d.run(show_progress=False)\n",
    "dists = d.get_pairwise_distances()\n",
    "dists.array[0][1]"
   ]
  },
  {
   "cell_type": "code",
   "execution_count": null,
   "id": "04db23d1",
   "metadata": {},
   "outputs": [],
   "source": [
    "from cogent3.app import evo, io\n",
    "\n",
    "loader = io.load_aligned(format=\"fasta\", moltype=\"dna\")\n",
    "\n",
    "for filename in os.listdir('./aligned'):\n",
    "    aln = loader(f'aligned/{filename}')\n",
    "    model = evo.model(\"K80\", tree=\"data/primate_brca1.tree\", optimise_motif_probs=True)\n",
    "result = model(aln)\n",
    "result\n"
   ]
  }
 ],
 "metadata": {
  "kernelspec": {
   "display_name": "Python 3 (ipykernel)",
   "language": "python",
   "name": "python3"
  },
  "language_info": {
   "codemirror_mode": {
    "name": "ipython",
    "version": 3
   },
   "file_extension": ".py",
   "mimetype": "text/x-python",
   "name": "python",
   "nbconvert_exporter": "python",
   "pygments_lexer": "ipython3",
   "version": "3.10.6"
  }
 },
 "nbformat": 4,
 "nbformat_minor": 5
}
