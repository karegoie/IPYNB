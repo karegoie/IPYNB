{
 "cells": [
  {
   "cell_type": "code",
   "execution_count": 54,
   "id": "1cd12104-9e82-4985-bffe-686360f23ca9",
   "metadata": {},
   "outputs": [],
   "source": [
    "T = 0\n",
    "\n",
    "with open(\"self.m8\", \"r\") as f:\n",
    "    with open(f\"self.{T}.m8\", \"w\") as g:\n",
    "        for line in f:\n",
    "            if float(line.strip().split(\"\\t\")[10]) <= T:\n",
    "                g.write(line)"
   ]
  },
  {
   "cell_type": "code",
   "execution_count": 55,
   "id": "02593528-1b2e-414d-8630-ced689184cb7",
   "metadata": {},
   "outputs": [
    {
     "name": "stdout",
     "output_type": "stream",
     "text": [
      "<_io.TextIOWrapper name='<stderr>' mode='w' encoding='utf-8'> Looks like this is self-self comparison\n",
      "<_io.TextIOWrapper name='<stderr>' mode='w' encoding='utf-8'> A total of 76136 dots to output.\n",
      "[('chr01', 2760.5, False), ('chr02', 7766.0, False), ('chr03', 12660.0, False), ('chr04', 17733.5, False), ('chr05', 22277.0, False), ('chr06', 26628.5, False), ('chr07', 31074.0, False), ('chr08', 35470.0, False), ('chr09', 39923.0, False), ('chr10', 44200.0, False), ('chr11', 48550.0, False), ('chr12', 53202.0, False)]\n",
      "<_io.TextIOWrapper name='<stderr>' mode='w' encoding='utf-8'> print image to `self.0.png`\n"
     ]
    }
   ],
   "source": [
    "!python3 blast_plot.py self.0.m8 --qbed Viola_philippica.bed --sbed Viola_philippica.bed --format=png"
   ]
  },
  {
   "cell_type": "code",
   "execution_count": null,
   "id": "4e75f5b1-b2b1-4567-b4e4-289392574f6c",
   "metadata": {},
   "outputs": [],
   "source": []
  }
 ],
 "metadata": {
  "kernelspec": {
   "display_name": "Python 3 (ipykernel)",
   "language": "python",
   "name": "python3"
  },
  "language_info": {
   "codemirror_mode": {
    "name": "ipython",
    "version": 3
   },
   "file_extension": ".py",
   "mimetype": "text/x-python",
   "name": "python",
   "nbconvert_exporter": "python",
   "pygments_lexer": "ipython3",
   "version": "3.10.6"
  }
 },
 "nbformat": 4,
 "nbformat_minor": 5
}
