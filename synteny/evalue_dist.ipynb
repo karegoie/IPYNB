{
 "cells": [
  {
   "cell_type": "code",
   "execution_count": 54,
   "id": "64416fd2-7ae4-413a-a04e-f486001784ef",
   "metadata": {},
   "outputs": [
    {
     "name": "stdout",
     "output_type": "stream",
     "text": [
      "HiC_scaffold_9\t2569\t5522\n",
      "HiC_scaffold_5\t1883\t4013\n",
      "HiC_scaffold_6\t2237\t4687\n",
      "HiC_scaffold_4\t2122\t4617\n",
      "HiC_scaffold_3\t1311\t4489\n",
      "HiC_scaffold_7\t2698\t5299\n",
      "HiC_scaffold_1\t2247\t4848\n",
      "HiC_scaffold_10\t1487\t4239\n",
      "HiC_scaffold_11\t1903\t4464\n",
      "HiC_scaffold_8\t1907\t4427\n",
      "HiC_scaffold_2\t1891\t4365\n",
      "HiC_scaffold_12\t1973\t4541\n",
      "total\t24228\t55511\n"
     ]
    }
   ],
   "source": [
    "# Read gtf file\n",
    "with open(\"./Viola.gtf\") as f:\n",
    "    gene_chr = {}\n",
    "    for line in f:\n",
    "        if line.startswith('#'):\n",
    "            continue\n",
    "        else:\n",
    "            line = line.strip().split('\\t')\n",
    "            if line[2] == 'transcript':\n",
    "                gene_chr[line[8].strip()] = line[0].strip()\n",
    "\n",
    "with open(\"./Viola.gtf\") as f:\n",
    "    chr_gene = {}\n",
    "    for line in f:\n",
    "        if line.startswith(\"#\"):\n",
    "            continue\n",
    "        else:\n",
    "            line = line.strip().split(\"\\t\")\n",
    "            if line[2] == \"transcript\":\n",
    "                if line[0] not in chr_gene:\n",
    "                    chr_gene[line[0]] = []\n",
    "                chr_gene[line[0]].append(line[8].strip())\n",
    "\n",
    "# Read synteny file\n",
    "with open(\"./Viola.Viola.anchors\") as f:\n",
    "    synteny = {}\n",
    "    for line in f:\n",
    "        if line.startswith(\"#\"):\n",
    "            block = []\n",
    "            continue\n",
    "        else:\n",
    "            line = line.strip().split(\"\\t\")\n",
    "            block.append([line[0], line[1]])\n",
    "        if gene_chr[block[0][0]] not in synteny:\n",
    "            synteny[gene_chr[block[0][0]]] = []\n",
    "        if gene_chr[block[0][1]] not in synteny:\n",
    "            synteny[gene_chr[block[0][1]]] = []\n",
    "\n",
    "\n",
    "        synteny[gene_chr[block[0][0]]].append(block)\n",
    "        synteny[gene_chr[block[0][1]]].append(block)\n",
    "\n",
    "# Count the number of synteny blocks\n",
    "for key in synteny:\n",
    "    print(key, len(synteny[key]), len(chr_gene[key]), sep=\"\\t\")\n",
    "\n",
    "print(\"total\", sum(list(map(len, synteny.values()))), sum(list(map(len, chr_gene.values()))), sep=\"\\t\")"
   ]
  },
  {
   "cell_type": "code",
   "execution_count": 55,
   "id": "521fb2af-2827-435b-823e-c7bd917bd927",
   "metadata": {},
   "outputs": [],
   "source": [
    "pool = []\n",
    "for key, values in synteny.items():\n",
    "    for i in values:\n",
    "        for j in i:\n",
    "            pool.append(j)"
   ]
  },
  {
   "cell_type": "code",
   "execution_count": 56,
   "id": "de106a0c-d5a7-4e17-ad35-e454ec364d0d",
   "metadata": {},
   "outputs": [],
   "source": [
    "target = {}\n",
    "with open(\"./self.m8\") as f:\n",
    "    for line in f:\n",
    "        line = line.strip().split(\"\\t\")\n",
    "        target[(line[0], line[1])] = float(line[-2])\n",
    "        target[(line[1], line[0])] = float(line[-2])"
   ]
  },
  {
   "cell_type": "code",
   "execution_count": 67,
   "id": "5a7b0224-4a40-4899-8146-8ef82c2387e8",
   "metadata": {},
   "outputs": [
    {
     "name": "stdout",
     "output_type": "stream",
     "text": [
      "586466 1505304 38.959970876314685\n"
     ]
    }
   ],
   "source": [
    "value = []\n",
    "cnt = 0\n",
    "total = 0\n",
    "for i, j in pool:\n",
    "    total += 1\n",
    "    try:\n",
    "        if target[(i, j)] !=0 :\n",
    "            cnt += 1\n",
    "            value.append(np.log10(target[(i, j)]))\n",
    "    except KeyError:\n",
    "        continue\n",
    "print(cnt, total, cnt / total * 100)"
   ]
  },
  {
   "cell_type": "code",
   "execution_count": 68,
   "id": "3ceea222-f9f7-4920-9611-3a69f8ea8ef9",
   "metadata": {},
   "outputs": [
    {
     "data": {
      "text/plain": [
       "<AxesSubplot:ylabel='Count'>"
      ]
     },
     "execution_count": 68,
     "metadata": {},
     "output_type": "execute_result"
    },
    {
     "data": {
      "image/png": "[encoded data removed]",
      "text/plain": [
       "<Figure size 640x480 with 1 Axes>"
      ]
     },
     "metadata": {},
     "output_type": "display_data"
    }
   ],
   "source": [
    "import seaborn as sns\n",
    "import numpy as np\n",
    "sns.histplot(value)"
   ]
  },
  {
   "cell_type": "code",
   "execution_count": null,
   "id": "4882b6f1-5d9b-47ad-9048-b211c338a759",
   "metadata": {},
   "outputs": [],
   "source": []
  }
 ],
 "metadata": {
  "kernelspec": {
   "display_name": "Python 3 (ipykernel)",
   "language": "python",
   "name": "python3"
  },
  "language_info": {
   "codemirror_mode": {
    "name": "ipython",
    "version": 3
   },
   "file_extension": ".py",
   "mimetype": "text/x-python",
   "name": "python",
   "nbconvert_exporter": "python",
   "pygments_lexer": "ipython3",
   "version": "3.10.6"
  }
 },
 "nbformat": 4,
 "nbformat_minor": 5
}
